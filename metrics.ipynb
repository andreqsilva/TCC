{
 "cells": [
  {
   "cell_type": "code",
   "execution_count": 1,
   "id": "5d5899e1-13c0-4b12-bb93-c458f3faf714",
   "metadata": {
    "tags": []
   },
   "outputs": [],
   "source": [
    "import cv2\n",
    "import numpy as np\n",
    "import matplotlib.pyplot as plt"
   ]
  },
  {
   "cell_type": "code",
   "execution_count": 2,
   "id": "78c5feb6-7608-494a-b211-db96eef2ffa3",
   "metadata": {
    "tags": []
   },
   "outputs": [],
   "source": [
    "from image_similarity_measures.quality_metrics import ssim, psnr, fsim, uiq"
   ]
  },
  {
   "cell_type": "code",
   "execution_count": 3,
   "id": "fc7079b1-4cd0-402e-acd6-4d40b71ebdbc",
   "metadata": {
    "tags": []
   },
   "outputs": [],
   "source": [
    "def load_image(path):\n",
    "    image = cv2.imread(path)\n",
    "    if image is None:\n",
    "        raise FileNotFoundError(f\"Erro ao carregar a imagem em {path}.\")\n",
    "    return np.array(image)"
   ]
  },
  {
   "cell_type": "code",
   "execution_count": 5,
   "id": "10c7ca42-af2d-4810-b980-e3227ada11f9",
   "metadata": {
    "tags": []
   },
   "outputs": [],
   "source": [
    "def show_image(image, image_name):\n",
    "    cv2.imshow(image_name, image)\n",
    "    cv2.waitKey(0)"
   ]
  },
  {
   "cell_type": "code",
   "execution_count": 5,
   "id": "03f06e92-6dfa-4268-a8da-057dc6f56e00",
   "metadata": {
    "tags": []
   },
   "outputs": [],
   "source": [
    "# https://quaternion.readthedocs.io/en/latest/\n",
    "import quaternion"
   ]
  },
  {
   "cell_type": "code",
   "execution_count": 4,
   "id": "232b41c1-b8d8-4fe2-aa90-5dec5428e18f",
   "metadata": {
    "tags": []
   },
   "outputs": [],
   "source": [
    "def qssim(img1, img2):\n",
    "\n",
    "    q1, q2 = img1.astype(np.quaternion), img2.astype(np.quaternion)\n",
    "    \n",
    "    # média e desvio padrão dos quaterniônicos\n",
    "    uq1, uq2 = np.mean(q1), np.mean(q2)\n",
    "    #print(np.linalg.norm(q1))\n",
    "    \n",
    "    sigma1, sigma2 = np.std(q1), np.std(q2)\n",
    "    #sigma1, sigma2 = calc_sigma(q1, uq1), calc_sigma(q2, uq2)\n",
    "    \n",
    "    # covariância\n",
    "    #cov = np.mean((q1 - uq1) * (q2 - uq2))\n",
    "    cov = np.mean((q1 - uq1) * (np.conj(q2 - uq2)))\n",
    "        \n",
    "    qssim_score = ((2 * uq1 * uq2) / (uq1 ** 2 + uq2 ** 2)) * (cov / (sigma1 ** 2 + sigma2 ** 2))\n",
    "    \n",
    "    return np.abs(qssim_score)"
   ]
  },
  {
   "cell_type": "code",
   "execution_count": 8,
   "id": "10069b33-a3b2-4a47-8038-62b752e3c41f",
   "metadata": {
    "tags": []
   },
   "outputs": [],
   "source": [
    "source_filename = 'ilu_47453_01_01'\n",
    "source_path = f\"../Bases/Bug/bug2017_stainnorm_validation_1000px/ilu_47453/{source_filename}.tif\"\n",
    "source = load_image(source_path)\n",
    "\n",
    "normalized_filename = \"ilu_47453_01_01.tif\"   \n",
    "normalized_path = f\"./out/Bug/KL/images/{normalized_filename}.png\"\n",
    "normalized = load_image(normalized_path)\n",
    "\n",
    "#some_image_filename = \"ilu_47453_01_04\"\n",
    "#some_image_path = f\"./{some_image_filename}.png\"\n",
    "#some_image = load_image(some_image_path)"
   ]
  },
  {
   "cell_type": "code",
   "execution_count": 10,
   "id": "9f08231e-6f27-4764-b9d4-9fa0e994c17a",
   "metadata": {
    "tags": []
   },
   "outputs": [
    {
     "name": "stdout",
     "output_type": "stream",
     "text": [
      "0.7899844650843096\n"
     ]
    }
   ],
   "source": [
    "out_fsim = fsim(source, normalized)\n",
    "print(out_fsim)"
   ]
  },
  {
   "cell_type": "code",
   "execution_count": 5,
   "id": "496a747f-2bb5-4134-9778-a0d63af81ad3",
   "metadata": {
    "tags": []
   },
   "outputs": [
    {
     "name": "stdout",
     "output_type": "stream",
     "text": [
      "UIQ Score: 0.4995\n"
     ]
    }
   ],
   "source": [
    "#out_qssim = qssim(normalized, source)\n",
    "#print(f\"QSSIM Score: {out_qssim:.4f}\")\n",
    "\n",
    "out_uiq = uiq(normalized, source)\n",
    "print(f\"UIQ Score: {out_uiq:.4f}\")"
   ]
  },
  {
   "cell_type": "code",
   "execution_count": 12,
   "id": "9f5b540a-0483-4e9e-9f32-1c27c8514ec7",
   "metadata": {
    "tags": []
   },
   "outputs": [],
   "source": [
    "import os"
   ]
  },
  {
   "cell_type": "code",
   "execution_count": 30,
   "id": "c3e2b020-ea09-4e18-b50c-afc8315b7465",
   "metadata": {
    "tags": []
   },
   "outputs": [
    {
     "name": "stdout",
     "output_type": "stream",
     "text": [
      "Target BGR & Source BGR\n",
      "\n",
      "ilu_47453_01_01.png\n",
      "QSSIM Score: 0.9852\n",
      "SSIM Score: 0.9968\n",
      "FSIM Score: 0.8645\n",
      "PSNR Score: 53.2046\n",
      "\n",
      "ilu_47453_01_02.png\n",
      "QSSIM Score: 0.9663\n",
      "SSIM Score: 0.9958\n",
      "FSIM Score: 0.8632\n",
      "PSNR Score: 49.4572\n",
      "\n",
      "ilu_47453_01_04.png\n",
      "QSSIM Score: 0.8725\n",
      "SSIM Score: 0.9910\n",
      "FSIM Score: 0.7493\n",
      "PSNR Score: 46.8475\n",
      "\n",
      "Target RGB & Source BGR\n",
      "\n",
      "ilu_47453_01_01.png\n",
      "QSSIM Score: 0.9584\n",
      "SSIM Score: 0.9933\n",
      "FSIM Score: 0.8394\n",
      "PSNR Score: 49.2217\n",
      "\n",
      "ilu_47453_01_02.png\n",
      "QSSIM Score: 0.9559\n",
      "SSIM Score: 0.9968\n",
      "FSIM Score: 0.8670\n",
      "PSNR Score: 50.9667\n",
      "\n",
      "ilu_47453_01_04.png\n",
      "QSSIM Score: 0.9527\n",
      "SSIM Score: 0.9965\n",
      "FSIM Score: 0.7895\n",
      "PSNR Score: 51.9944\n",
      "\n",
      "Target RGB & Source RGB\n",
      "\n",
      "ilu_47453_01_01.png\n",
      "QSSIM Score: 0.9806\n",
      "SSIM Score: 0.9970\n",
      "FSIM Score: 0.8656\n",
      "PSNR Score: 51.7983\n",
      "\n",
      "ilu_47453_01_02.png\n",
      "QSSIM Score: 0.9607\n",
      "SSIM Score: 0.9965\n",
      "FSIM Score: 0.8615\n",
      "PSNR Score: 50.0951\n",
      "\n",
      "ilu_47453_01_04.png\n",
      "QSSIM Score: 0.9433\n",
      "SSIM Score: 0.9955\n",
      "FSIM Score: 0.7891\n",
      "PSNR Score: 51.0934\n",
      "\n"
     ]
    }
   ],
   "source": [
    "images_filename = ['ilu_47453_01_01', 'ilu_47453_01_02', 'ilu_47453_01_04']\n",
    "\n",
    "dir = \".\\\\results\\\\Variacao de concentracao de corantes\\\\KL\"\n",
    "files = os.listdir(dir)\n",
    "\n",
    "for file in files:\n",
    "    print(file)\n",
    "    print()\n",
    "    images_dir = os.path.join(dir, file)\n",
    "    normalized_images = os.listdir(images_dir)\n",
    "    for normalized_filename, source_filename in zip(normalized_images, images_filename):\n",
    "        print(normalized_filename)\n",
    "        \n",
    "        source_path = f\".\\\\dataset\\\\Variacao de concentracao de corantes\\\\{source_filename}.tif\"\n",
    "        source = load_image(source_path)\n",
    "    \n",
    "        normalized_path = os.path.join(images_dir, normalized_filename)\n",
    "        normalized = load_image(normalized_path)\n",
    "        \n",
    "        out_qssim = qssim(source, normalized)\n",
    "        out_ssim = ssim(source, normalized)\n",
    "        out_fsim = fsim(source, normalized)\n",
    "        out_psnr = psnr(source, normalized)\n",
    "\n",
    "        print(f\"QSSIM Score: {out_qssim:.4f}\")\n",
    "        print(f\"SSIM Score: {out_ssim:.4f}\")\n",
    "        print(f\"FSIM Score: {out_fsim:.4f}\")\n",
    "        print(f\"PSNR Score: {out_psnr:.4f}\")\n",
    "        print()"
   ]
  },
  {
   "cell_type": "code",
   "execution_count": null,
   "id": "272dc0f7-c6ba-4fab-ad78-f3adab5b8566",
   "metadata": {},
   "outputs": [],
   "source": []
  },
  {
   "cell_type": "code",
   "execution_count": 7,
   "id": "5a8c187d-9c8f-40ba-9b40-fb6794c64b42",
   "metadata": {
    "tags": []
   },
   "outputs": [],
   "source": []
  },
  {
   "cell_type": "code",
   "execution_count": null,
   "id": "723c2a2c-10ee-497d-bad6-c10a1301537a",
   "metadata": {
    "tags": []
   },
   "outputs": [],
   "source": []
  },
  {
   "cell_type": "code",
   "execution_count": null,
   "id": "4af689d4-bce9-4c03-a50c-3fcb943c2ddc",
   "metadata": {},
   "outputs": [],
   "source": []
  },
  {
   "cell_type": "code",
   "execution_count": 30,
   "id": "d0d9570a-07a5-4a65-813e-c77a8b15e6bc",
   "metadata": {
    "tags": []
   },
   "outputs": [],
   "source": []
  },
  {
   "cell_type": "code",
   "execution_count": 163,
   "id": "151fbd31-c79e-45e1-af5a-39cde55952d2",
   "metadata": {
    "tags": []
   },
   "outputs": [],
   "source": []
  },
  {
   "cell_type": "code",
   "execution_count": null,
   "id": "feefbd70-a681-4da4-84f8-8e498d0da04f",
   "metadata": {
    "tags": []
   },
   "outputs": [],
   "source": []
  },
  {
   "cell_type": "code",
   "execution_count": null,
   "id": "06401092-12d8-4acd-a614-48b97217494e",
   "metadata": {},
   "outputs": [],
   "source": []
  }
 ],
 "metadata": {
  "kernelspec": {
   "display_name": "Python 3 (ipykernel)",
   "language": "python",
   "name": "python3"
  },
  "language_info": {
   "codemirror_mode": {
    "name": "ipython",
    "version": 3
   },
   "file_extension": ".py",
   "mimetype": "text/x-python",
   "name": "python",
   "nbconvert_exporter": "python",
   "pygments_lexer": "ipython3",
   "version": "3.11.5"
  }
 },
 "nbformat": 4,
 "nbformat_minor": 5
}
