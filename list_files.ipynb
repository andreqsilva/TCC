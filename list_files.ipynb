{
 "cells": [
  {
   "cell_type": "code",
   "execution_count": 1,
   "id": "909eef0b-de82-43c7-bbe0-7027f4099fc5",
   "metadata": {
    "tags": []
   },
   "outputs": [],
   "source": [
    "import os\n",
    "import numpy as np\n",
    "import cv2\n",
    "import time"
   ]
  },
  {
   "cell_type": "code",
   "execution_count": 7,
   "id": "0daaba4e-425b-4529-b125-c68634f75466",
   "metadata": {
    "tags": []
   },
   "outputs": [
    {
     "data": {
      "text/plain": [
       "'\\nfor target, sources in database.items():\\n    for source in sources:\\n        print(target, source)\\n    print()\\n'"
      ]
     },
     "execution_count": 7,
     "metadata": {},
     "output_type": "execute_result"
    }
   ],
   "source": [
    "def concentration_variation(dir):    \n",
    "    # imagens originais\n",
    "    files = os.listdir(dir)\n",
    "    sources = []\n",
    "    for file in files:\n",
    "        if not os.path.isdir(os.path.join(dir, file)):\n",
    "            sources.append(file)\n",
    "    \n",
    "    # imagens de referência\n",
    "    target_dir = os.path.join(dir, \"refs\")\n",
    "    files = os.listdir(target_dir)\n",
    "    targets = [file for file in files]\n",
    "\n",
    "    database = {}\n",
    "    for target in targets:\n",
    "        target_prefix = \"_\".join(target.split(\"_\")[:-1])\n",
    "        match = [source for source in sources if source.startswith(target_prefix)]\n",
    "        database[os.path.join(target_dir, target)] = [os.path.join(dir, m) for m in match]\n",
    "    \n",
    "    '''\n",
    "    for target, source in database.items():\n",
    "        print(target, source)\n",
    "    '''\n",
    "    \n",
    "    return database\n",
    "\n",
    "dir = '..\\\\Bases\\\\Concentration variation'\n",
    "database = concentration_variation(dir)\n",
    "\n",
    "'''\n",
    "for target, sources in database.items():\n",
    "    for source in sources:\n",
    "        print(target, source)\n",
    "    print()\n",
    "'''"
   ]
  },
  {
   "cell_type": "code",
   "execution_count": 4,
   "id": "b061896a-0fd2-422d-9835-b9f1d5982162",
   "metadata": {
    "tags": []
   },
   "outputs": [
    {
     "data": {
      "text/plain": [
       "'\\nfor target, source in database.items():\\n    print(target, source)\\n'"
      ]
     },
     "execution_count": 4,
     "metadata": {},
     "output_type": "execute_result"
    }
   ],
   "source": [
    "def scanners_variation(dir):\n",
    "    cuts = ['corte 16.1', 'corte 16.4', 'corte 32.5']\n",
    "    database = {}\n",
    "    for cut in cuts:\n",
    "        cut_dir = os.path.join(dir, cut)\n",
    "        files = os.listdir(cut_dir)\n",
    "        for file in files:\n",
    "            file_dir = os.path.join(cut_dir, file)\n",
    "            if os.path.isdir(file_dir):\n",
    "                images = os.listdir(file_dir)\n",
    "                if file == 'original':\n",
    "                    targets = [os.path.join(file_dir, image) for image in images]\n",
    "                else:\n",
    "                    sources = [os.path.join(file_dir, image) for image in images]\n",
    "        \n",
    "        for target, source in zip(targets, sources):\n",
    "            database[target] = source\n",
    "        \n",
    "    return database\n",
    "    \n",
    "database = scanners_variation(\".\\\\Bases\\\\Scanners variation\")\n",
    "\n",
    "'''\n",
    "for target, source in database.items():\n",
    "    print(target, source)\n",
    "'''"
   ]
  },
  {
   "cell_type": "code",
   "execution_count": 102,
   "id": "5b2f58a5-a419-4367-addb-33584aab444f",
   "metadata": {
    "tags": []
   },
   "outputs": [],
   "source": [
    "def MITOS(dir):\n",
    "    target_path = os.path.join(dir, \"cortes 256\\\\Scanner Aperio\")\n",
    "    target_files = os.listdir(target_path)\n",
    "    targets = [os.path.join(target_path, file) for file in target_files if file.startswith(\"A\")]\n",
    "\n",
    "    source_path = os.path.join(dir, \"cortes 256\\\\Scanner Hamamatsu\")\n",
    "    source_files = os.listdir(source_path)\n",
    "    sources = [os.path.join(source_path, file) for file in source_files if file.startswith(\"H\")]\n",
    "    \n",
    "    return targets, sources"
   ]
  },
  {
   "cell_type": "code",
   "execution_count": 107,
   "id": "3585f90c-770b-494d-8ee8-0082d00333db",
   "metadata": {
    "tags": []
   },
   "outputs": [
    {
     "name": "stdout",
     "output_type": "stream",
     "text": [
      "Database: MITOS\t Magnification: 40px\t Scheme: KL\t Total images: 3200\n",
      "\n",
      "Image\t Filename\t Completed\t Estimated (min)\n"
     ]
    },
    {
     "data": {
      "text/plain": [
       "'\\nfor index, (target_path, source_path) in enumerate(zip(targets, sources), start=1):\\n\\n    target_filename = target_path[(target_path.rfind(\"\\\\\") + 1):]\\n    completed = round((index/len(targets)) * 100, 2)\\n    \\n    tempo_decorrido = time.time() - start\\n    tempo_estimado_total = (tempo_decorrido / completed) * len(targets) - tempo_decorrido\\n    tempo_estimado_minutos = tempo_estimado_total / 60  # Converter para minutos\\n        \\n    print(f\"{index}\\t {target_filename}\\t {completed}%\\t\\t {tempo_estimado_minutos:.2f}\")\\n    \\nprint(len(targets), len(sources))'"
      ]
     },
     "execution_count": 107,
     "metadata": {},
     "output_type": "execute_result"
    }
   ],
   "source": [
    "targets, sources = MITOS(\"..\\\\bases\\\\MITOS\")\n",
    "print(f\"Database: MITOS\\t Magnification: 40px\\t Scheme: KL\\t Total images: {len(targets)}\\n\")\n",
    "print(f\"Image\\t Filename\\t Completed\\t Estimated (min)\")\n",
    "start = time.time()\n",
    "'''\n",
    "for index, (target_path, source_path) in enumerate(zip(targets, sources), start=1):\n",
    "\n",
    "    target_filename = target_path[(target_path.rfind(\"\\\\\") + 1):]\n",
    "    completed = round((index/len(targets)) * 100, 2)\n",
    "    \n",
    "    tempo_decorrido = time.time() - start\n",
    "    tempo_estimado_total = (tempo_decorrido / completed) * len(targets) - tempo_decorrido\n",
    "    tempo_estimado_minutos = tempo_estimado_total / 60  # Converter para minutos\n",
    "        \n",
    "    print(f\"{index}\\t {target_filename}\\t {completed}%\\t\\t {tempo_estimado_minutos:.2f}\")\n",
    "    \n",
    "print(len(targets), len(sources))'''"
   ]
  },
  {
   "cell_type": "code",
   "execution_count": 2,
   "id": "943843ce-6373-4bb3-87b8-0efc67948cd3",
   "metadata": {
    "tags": []
   },
   "outputs": [],
   "source": [
    "def bug(dir):\n",
    "    subdirs_path = os.path.join(dir, \"bug2017_stainnorm_validation_1000px\")\n",
    "    subdirs = os.listdir(subdirs_path)\n",
    "    database = {}\n",
    "    targets = []\n",
    "    sources = []\n",
    "    for subdir in subdirs:\n",
    "        image_path = os.path.join(subdirs_path, subdir)\n",
    "        files = os.listdir(image_path)\n",
    "        targets.extend(os.path.join(image_path, files[2]) for i in range(len(files) - 1))\n",
    "        del files[2]\n",
    "        sources.extend([os.path.join(image_path, file) for file in files.copy()])\n",
    "    return targets, sources        "
   ]
  },
  {
   "cell_type": "code",
   "execution_count": 3,
   "id": "5cbb2d19-4688-4f5a-97d8-3b800f30c393",
   "metadata": {},
   "outputs": [
    {
     "data": {
      "text/plain": [
       "['..\\\\Bases\\\\Bug\\\\bug2017_stainnorm_validation_1000px\\\\ilu_47453\\\\ilu_47453_01_03.tif',\n",
       " '..\\\\Bases\\\\Bug\\\\bug2017_stainnorm_validation_1000px\\\\ilu_47453\\\\ilu_47453_01_03.tif',\n",
       " '..\\\\Bases\\\\Bug\\\\bug2017_stainnorm_validation_1000px\\\\ilu_47453\\\\ilu_47453_01_03.tif',\n",
       " '..\\\\Bases\\\\Bug\\\\bug2017_stainnorm_validation_1000px\\\\ilu_47453\\\\ilu_47453_01_03.tif',\n",
       " '..\\\\Bases\\\\Bug\\\\bug2017_stainnorm_validation_1000px\\\\ilu_47453\\\\ilu_47453_01_03.tif',\n",
       " '..\\\\Bases\\\\Bug\\\\bug2017_stainnorm_validation_1000px\\\\ilu_47453\\\\ilu_47453_01_03.tif',\n",
       " '..\\\\Bases\\\\Bug\\\\bug2017_stainnorm_validation_1000px\\\\ilu_47453\\\\ilu_47453_01_03.tif',\n",
       " '..\\\\Bases\\\\Bug\\\\bug2017_stainnorm_validation_1000px\\\\ilu_47453\\\\ilu_47453_01_03.tif',\n",
       " '..\\\\Bases\\\\Bug\\\\bug2017_stainnorm_validation_1000px\\\\ilu_47453\\\\ilu_47453_01_03.tif',\n",
       " '..\\\\Bases\\\\Bug\\\\bug2017_stainnorm_validation_1000px\\\\ilu_47453\\\\ilu_47453_01_03.tif',\n",
       " '..\\\\Bases\\\\Bug\\\\bug2017_stainnorm_validation_1000px\\\\ilu_47453\\\\ilu_47453_01_03.tif',\n",
       " '..\\\\Bases\\\\Bug\\\\bug2017_stainnorm_validation_1000px\\\\ilu_47453\\\\ilu_47453_01_03.tif',\n",
       " '..\\\\Bases\\\\Bug\\\\bug2017_stainnorm_validation_1000px\\\\ilu_47453\\\\ilu_47453_01_03.tif',\n",
       " '..\\\\Bases\\\\Bug\\\\bug2017_stainnorm_validation_1000px\\\\ilu_47453\\\\ilu_47453_01_03.tif',\n",
       " '..\\\\Bases\\\\Bug\\\\bug2017_stainnorm_validation_1000px\\\\ilu_47453\\\\ilu_47453_01_03.tif',\n",
       " '..\\\\Bases\\\\Bug\\\\bug2017_stainnorm_validation_1000px\\\\ilu_47453\\\\ilu_47453_01_03.tif',\n",
       " '..\\\\Bases\\\\Bug\\\\bug2017_stainnorm_validation_1000px\\\\ilu_47453\\\\ilu_47453_01_03.tif',\n",
       " '..\\\\Bases\\\\Bug\\\\bug2017_stainnorm_validation_1000px\\\\ilu_47453\\\\ilu_47453_01_03.tif',\n",
       " '..\\\\Bases\\\\Bug\\\\bug2017_stainnorm_validation_1000px\\\\ilu_47453\\\\ilu_47453_01_03.tif',\n",
       " '..\\\\Bases\\\\Bug\\\\bug2017_stainnorm_validation_1000px\\\\ilu_47453\\\\ilu_47453_01_03.tif',\n",
       " '..\\\\Bases\\\\Bug\\\\bug2017_stainnorm_validation_1000px\\\\ilu_47453\\\\ilu_47453_01_03.tif',\n",
       " '..\\\\Bases\\\\Bug\\\\bug2017_stainnorm_validation_1000px\\\\ilu_47453\\\\ilu_47453_01_03.tif',\n",
       " '..\\\\Bases\\\\Bug\\\\bug2017_stainnorm_validation_1000px\\\\ilu_47453\\\\ilu_47453_01_03.tif',\n",
       " '..\\\\Bases\\\\Bug\\\\bug2017_stainnorm_validation_1000px\\\\ilu_47453\\\\ilu_47453_01_03.tif',\n",
       " '..\\\\Bases\\\\Bug\\\\bug2017_stainnorm_validation_1000px\\\\ilu_47453\\\\ilu_47453_01_03.tif',\n",
       " '..\\\\Bases\\\\Bug\\\\bug2017_stainnorm_validation_1000px\\\\ilu_47453\\\\ilu_47453_01_03.tif',\n",
       " '..\\\\Bases\\\\Bug\\\\bug2017_stainnorm_validation_1000px\\\\ilu_47453\\\\ilu_47453_01_03.tif',\n",
       " '..\\\\Bases\\\\Bug\\\\bug2017_stainnorm_validation_1000px\\\\ilu_47453\\\\ilu_47453_01_03.tif',\n",
       " '..\\\\Bases\\\\Bug\\\\bug2017_stainnorm_validation_1000px\\\\ilu_47453\\\\ilu_47453_01_03.tif',\n",
       " '..\\\\Bases\\\\Bug\\\\bug2017_stainnorm_validation_1000px\\\\ilu_47453\\\\ilu_47453_01_03.tif',\n",
       " '..\\\\Bases\\\\Bug\\\\bug2017_stainnorm_validation_1000px\\\\ilu_47453\\\\ilu_47453_01_03.tif',\n",
       " '..\\\\Bases\\\\Bug\\\\bug2017_stainnorm_validation_1000px\\\\ilu_47453\\\\ilu_47453_01_03.tif',\n",
       " '..\\\\Bases\\\\Bug\\\\bug2017_stainnorm_validation_1000px\\\\ilu_47453\\\\ilu_47453_01_03.tif',\n",
       " '..\\\\Bases\\\\Bug\\\\bug2017_stainnorm_validation_1000px\\\\ilu_47453\\\\ilu_47453_01_03.tif',\n",
       " '..\\\\Bases\\\\Bug\\\\bug2017_stainnorm_validation_1000px\\\\ilu_47453\\\\ilu_47453_01_03.tif',\n",
       " '..\\\\Bases\\\\Bug\\\\bug2017_stainnorm_validation_1000px\\\\ilu_47453\\\\ilu_47453_01_03.tif',\n",
       " '..\\\\Bases\\\\Bug\\\\bug2017_stainnorm_validation_1000px\\\\ilu_47453\\\\ilu_47453_01_03.tif',\n",
       " '..\\\\Bases\\\\Bug\\\\bug2017_stainnorm_validation_1000px\\\\ilu_47453\\\\ilu_47453_01_03.tif',\n",
       " '..\\\\Bases\\\\Bug\\\\bug2017_stainnorm_validation_1000px\\\\ilu_47453\\\\ilu_47453_01_03.tif',\n",
       " '..\\\\Bases\\\\Bug\\\\bug2017_stainnorm_validation_1000px\\\\ilu_47453\\\\ilu_47453_01_03.tif',\n",
       " '..\\\\Bases\\\\Bug\\\\bug2017_stainnorm_validation_1000px\\\\ilu_47453\\\\ilu_47453_01_03.tif',\n",
       " '..\\\\Bases\\\\Bug\\\\bug2017_stainnorm_validation_1000px\\\\ilu_47453\\\\ilu_47453_01_03.tif',\n",
       " '..\\\\Bases\\\\Bug\\\\bug2017_stainnorm_validation_1000px\\\\ilu_47453\\\\ilu_47453_01_03.tif',\n",
       " '..\\\\Bases\\\\Bug\\\\bug2017_stainnorm_validation_1000px\\\\ilu_47453\\\\ilu_47453_01_03.tif',\n",
       " '..\\\\Bases\\\\Bug\\\\bug2017_stainnorm_validation_1000px\\\\ilu_47691\\\\ilu_47691_01_03.tif',\n",
       " '..\\\\Bases\\\\Bug\\\\bug2017_stainnorm_validation_1000px\\\\ilu_47691\\\\ilu_47691_01_03.tif',\n",
       " '..\\\\Bases\\\\Bug\\\\bug2017_stainnorm_validation_1000px\\\\ilu_47691\\\\ilu_47691_01_03.tif',\n",
       " '..\\\\Bases\\\\Bug\\\\bug2017_stainnorm_validation_1000px\\\\ilu_47691\\\\ilu_47691_01_03.tif',\n",
       " '..\\\\Bases\\\\Bug\\\\bug2017_stainnorm_validation_1000px\\\\ilu_47691\\\\ilu_47691_01_03.tif',\n",
       " '..\\\\Bases\\\\Bug\\\\bug2017_stainnorm_validation_1000px\\\\ilu_47691\\\\ilu_47691_01_03.tif',\n",
       " '..\\\\Bases\\\\Bug\\\\bug2017_stainnorm_validation_1000px\\\\ilu_47691\\\\ilu_47691_01_03.tif',\n",
       " '..\\\\Bases\\\\Bug\\\\bug2017_stainnorm_validation_1000px\\\\ilu_47691\\\\ilu_47691_01_03.tif',\n",
       " '..\\\\Bases\\\\Bug\\\\bug2017_stainnorm_validation_1000px\\\\ilu_47691\\\\ilu_47691_01_03.tif',\n",
       " '..\\\\Bases\\\\Bug\\\\bug2017_stainnorm_validation_1000px\\\\ilu_47691\\\\ilu_47691_01_03.tif',\n",
       " '..\\\\Bases\\\\Bug\\\\bug2017_stainnorm_validation_1000px\\\\ilu_47691\\\\ilu_47691_01_03.tif',\n",
       " '..\\\\Bases\\\\Bug\\\\bug2017_stainnorm_validation_1000px\\\\ilu_47691\\\\ilu_47691_01_03.tif',\n",
       " '..\\\\Bases\\\\Bug\\\\bug2017_stainnorm_validation_1000px\\\\ilu_47691\\\\ilu_47691_01_03.tif',\n",
       " '..\\\\Bases\\\\Bug\\\\bug2017_stainnorm_validation_1000px\\\\ilu_47691\\\\ilu_47691_01_03.tif',\n",
       " '..\\\\Bases\\\\Bug\\\\bug2017_stainnorm_validation_1000px\\\\ilu_47691\\\\ilu_47691_01_03.tif',\n",
       " '..\\\\Bases\\\\Bug\\\\bug2017_stainnorm_validation_1000px\\\\ilu_47691\\\\ilu_47691_01_03.tif',\n",
       " '..\\\\Bases\\\\Bug\\\\bug2017_stainnorm_validation_1000px\\\\ilu_47691\\\\ilu_47691_01_03.tif',\n",
       " '..\\\\Bases\\\\Bug\\\\bug2017_stainnorm_validation_1000px\\\\ilu_47691\\\\ilu_47691_01_03.tif',\n",
       " '..\\\\Bases\\\\Bug\\\\bug2017_stainnorm_validation_1000px\\\\ilu_47691\\\\ilu_47691_01_03.tif',\n",
       " '..\\\\Bases\\\\Bug\\\\bug2017_stainnorm_validation_1000px\\\\ilu_47691\\\\ilu_47691_01_03.tif',\n",
       " '..\\\\Bases\\\\Bug\\\\bug2017_stainnorm_validation_1000px\\\\ilu_47691\\\\ilu_47691_01_03.tif',\n",
       " '..\\\\Bases\\\\Bug\\\\bug2017_stainnorm_validation_1000px\\\\ilu_47691\\\\ilu_47691_01_03.tif',\n",
       " '..\\\\Bases\\\\Bug\\\\bug2017_stainnorm_validation_1000px\\\\ilu_47691\\\\ilu_47691_01_03.tif',\n",
       " '..\\\\Bases\\\\Bug\\\\bug2017_stainnorm_validation_1000px\\\\ilu_47691\\\\ilu_47691_01_03.tif',\n",
       " '..\\\\Bases\\\\Bug\\\\bug2017_stainnorm_validation_1000px\\\\ilu_47691\\\\ilu_47691_01_03.tif',\n",
       " '..\\\\Bases\\\\Bug\\\\bug2017_stainnorm_validation_1000px\\\\ilu_47691\\\\ilu_47691_01_03.tif',\n",
       " '..\\\\Bases\\\\Bug\\\\bug2017_stainnorm_validation_1000px\\\\ilu_47691\\\\ilu_47691_01_03.tif',\n",
       " '..\\\\Bases\\\\Bug\\\\bug2017_stainnorm_validation_1000px\\\\ilu_47691\\\\ilu_47691_01_03.tif',\n",
       " '..\\\\Bases\\\\Bug\\\\bug2017_stainnorm_validation_1000px\\\\ilu_47691\\\\ilu_47691_01_03.tif',\n",
       " '..\\\\Bases\\\\Bug\\\\bug2017_stainnorm_validation_1000px\\\\ilu_47691\\\\ilu_47691_01_03.tif',\n",
       " '..\\\\Bases\\\\Bug\\\\bug2017_stainnorm_validation_1000px\\\\ilu_47691\\\\ilu_47691_01_03.tif',\n",
       " '..\\\\Bases\\\\Bug\\\\bug2017_stainnorm_validation_1000px\\\\ilu_47691\\\\ilu_47691_01_03.tif',\n",
       " '..\\\\Bases\\\\Bug\\\\bug2017_stainnorm_validation_1000px\\\\ilu_47691\\\\ilu_47691_01_03.tif',\n",
       " '..\\\\Bases\\\\Bug\\\\bug2017_stainnorm_validation_1000px\\\\ilu_47691\\\\ilu_47691_01_03.tif',\n",
       " '..\\\\Bases\\\\Bug\\\\bug2017_stainnorm_validation_1000px\\\\ilu_47691\\\\ilu_47691_01_03.tif',\n",
       " '..\\\\Bases\\\\Bug\\\\bug2017_stainnorm_validation_1000px\\\\ilu_47691\\\\ilu_47691_01_03.tif',\n",
       " '..\\\\Bases\\\\Bug\\\\bug2017_stainnorm_validation_1000px\\\\ilu_47691\\\\ilu_47691_01_03.tif',\n",
       " '..\\\\Bases\\\\Bug\\\\bug2017_stainnorm_validation_1000px\\\\ilu_47691\\\\ilu_47691_01_03.tif',\n",
       " '..\\\\Bases\\\\Bug\\\\bug2017_stainnorm_validation_1000px\\\\ilu_47691\\\\ilu_47691_01_03.tif',\n",
       " '..\\\\Bases\\\\Bug\\\\bug2017_stainnorm_validation_1000px\\\\ilu_47691\\\\ilu_47691_01_03.tif',\n",
       " '..\\\\Bases\\\\Bug\\\\bug2017_stainnorm_validation_1000px\\\\ilu_47691\\\\ilu_47691_01_03.tif',\n",
       " '..\\\\Bases\\\\Bug\\\\bug2017_stainnorm_validation_1000px\\\\ilu_47691\\\\ilu_47691_01_03.tif',\n",
       " '..\\\\Bases\\\\Bug\\\\bug2017_stainnorm_validation_1000px\\\\ilu_47691\\\\ilu_47691_01_03.tif',\n",
       " '..\\\\Bases\\\\Bug\\\\bug2017_stainnorm_validation_1000px\\\\ilu_47691\\\\ilu_47691_01_03.tif',\n",
       " '..\\\\Bases\\\\Bug\\\\bug2017_stainnorm_validation_1000px\\\\ilu_48631\\\\ilu_48631_01_03.tif',\n",
       " '..\\\\Bases\\\\Bug\\\\bug2017_stainnorm_validation_1000px\\\\ilu_48631\\\\ilu_48631_01_03.tif',\n",
       " '..\\\\Bases\\\\Bug\\\\bug2017_stainnorm_validation_1000px\\\\ilu_48631\\\\ilu_48631_01_03.tif',\n",
       " '..\\\\Bases\\\\Bug\\\\bug2017_stainnorm_validation_1000px\\\\ilu_48631\\\\ilu_48631_01_03.tif',\n",
       " '..\\\\Bases\\\\Bug\\\\bug2017_stainnorm_validation_1000px\\\\ilu_48631\\\\ilu_48631_01_03.tif',\n",
       " '..\\\\Bases\\\\Bug\\\\bug2017_stainnorm_validation_1000px\\\\ilu_48631\\\\ilu_48631_01_03.tif',\n",
       " '..\\\\Bases\\\\Bug\\\\bug2017_stainnorm_validation_1000px\\\\ilu_48631\\\\ilu_48631_01_03.tif',\n",
       " '..\\\\Bases\\\\Bug\\\\bug2017_stainnorm_validation_1000px\\\\ilu_48631\\\\ilu_48631_01_03.tif',\n",
       " '..\\\\Bases\\\\Bug\\\\bug2017_stainnorm_validation_1000px\\\\ilu_48631\\\\ilu_48631_01_03.tif',\n",
       " '..\\\\Bases\\\\Bug\\\\bug2017_stainnorm_validation_1000px\\\\ilu_48631\\\\ilu_48631_01_03.tif',\n",
       " '..\\\\Bases\\\\Bug\\\\bug2017_stainnorm_validation_1000px\\\\ilu_48631\\\\ilu_48631_01_03.tif',\n",
       " '..\\\\Bases\\\\Bug\\\\bug2017_stainnorm_validation_1000px\\\\ilu_48631\\\\ilu_48631_01_03.tif',\n",
       " '..\\\\Bases\\\\Bug\\\\bug2017_stainnorm_validation_1000px\\\\ilu_48631\\\\ilu_48631_01_03.tif',\n",
       " '..\\\\Bases\\\\Bug\\\\bug2017_stainnorm_validation_1000px\\\\ilu_48631\\\\ilu_48631_01_03.tif',\n",
       " '..\\\\Bases\\\\Bug\\\\bug2017_stainnorm_validation_1000px\\\\ilu_48631\\\\ilu_48631_01_03.tif',\n",
       " '..\\\\Bases\\\\Bug\\\\bug2017_stainnorm_validation_1000px\\\\ilu_48631\\\\ilu_48631_01_03.tif',\n",
       " '..\\\\Bases\\\\Bug\\\\bug2017_stainnorm_validation_1000px\\\\ilu_48631\\\\ilu_48631_01_03.tif',\n",
       " '..\\\\Bases\\\\Bug\\\\bug2017_stainnorm_validation_1000px\\\\ilu_48631\\\\ilu_48631_01_03.tif',\n",
       " '..\\\\Bases\\\\Bug\\\\bug2017_stainnorm_validation_1000px\\\\ilu_48631\\\\ilu_48631_01_03.tif',\n",
       " '..\\\\Bases\\\\Bug\\\\bug2017_stainnorm_validation_1000px\\\\ilu_48631\\\\ilu_48631_01_03.tif',\n",
       " '..\\\\Bases\\\\Bug\\\\bug2017_stainnorm_validation_1000px\\\\ilu_48631\\\\ilu_48631_01_03.tif',\n",
       " '..\\\\Bases\\\\Bug\\\\bug2017_stainnorm_validation_1000px\\\\ilu_48631\\\\ilu_48631_01_03.tif',\n",
       " '..\\\\Bases\\\\Bug\\\\bug2017_stainnorm_validation_1000px\\\\ilu_48631\\\\ilu_48631_01_03.tif',\n",
       " '..\\\\Bases\\\\Bug\\\\bug2017_stainnorm_validation_1000px\\\\ilu_48631\\\\ilu_48631_01_03.tif',\n",
       " '..\\\\Bases\\\\Bug\\\\bug2017_stainnorm_validation_1000px\\\\ilu_48631\\\\ilu_48631_01_03.tif',\n",
       " '..\\\\Bases\\\\Bug\\\\bug2017_stainnorm_validation_1000px\\\\ilu_48631\\\\ilu_48631_01_03.tif',\n",
       " '..\\\\Bases\\\\Bug\\\\bug2017_stainnorm_validation_1000px\\\\ilu_48631\\\\ilu_48631_01_03.tif',\n",
       " '..\\\\Bases\\\\Bug\\\\bug2017_stainnorm_validation_1000px\\\\ilu_48631\\\\ilu_48631_01_03.tif',\n",
       " '..\\\\Bases\\\\Bug\\\\bug2017_stainnorm_validation_1000px\\\\ilu_48631\\\\ilu_48631_01_03.tif',\n",
       " '..\\\\Bases\\\\Bug\\\\bug2017_stainnorm_validation_1000px\\\\ilu_48631\\\\ilu_48631_01_03.tif',\n",
       " '..\\\\Bases\\\\Bug\\\\bug2017_stainnorm_validation_1000px\\\\ilu_48631\\\\ilu_48631_01_03.tif',\n",
       " '..\\\\Bases\\\\Bug\\\\bug2017_stainnorm_validation_1000px\\\\ilu_48631\\\\ilu_48631_01_03.tif',\n",
       " '..\\\\Bases\\\\Bug\\\\bug2017_stainnorm_validation_1000px\\\\ilu_48631\\\\ilu_48631_01_03.tif',\n",
       " '..\\\\Bases\\\\Bug\\\\bug2017_stainnorm_validation_1000px\\\\ilu_48631\\\\ilu_48631_01_03.tif',\n",
       " '..\\\\Bases\\\\Bug\\\\bug2017_stainnorm_validation_1000px\\\\ilu_48631\\\\ilu_48631_01_03.tif',\n",
       " '..\\\\Bases\\\\Bug\\\\bug2017_stainnorm_validation_1000px\\\\ilu_48631\\\\ilu_48631_01_03.tif',\n",
       " '..\\\\Bases\\\\Bug\\\\bug2017_stainnorm_validation_1000px\\\\ilu_48631\\\\ilu_48631_01_03.tif',\n",
       " '..\\\\Bases\\\\Bug\\\\bug2017_stainnorm_validation_1000px\\\\ilu_48631\\\\ilu_48631_01_03.tif',\n",
       " '..\\\\Bases\\\\Bug\\\\bug2017_stainnorm_validation_1000px\\\\ilu_48631\\\\ilu_48631_01_03.tif',\n",
       " '..\\\\Bases\\\\Bug\\\\bug2017_stainnorm_validation_1000px\\\\ilu_48631\\\\ilu_48631_01_03.tif',\n",
       " '..\\\\Bases\\\\Bug\\\\bug2017_stainnorm_validation_1000px\\\\ilu_48631\\\\ilu_48631_01_03.tif',\n",
       " '..\\\\Bases\\\\Bug\\\\bug2017_stainnorm_validation_1000px\\\\ilu_48631\\\\ilu_48631_01_03.tif',\n",
       " '..\\\\Bases\\\\Bug\\\\bug2017_stainnorm_validation_1000px\\\\ilu_48631\\\\ilu_48631_01_03.tif',\n",
       " '..\\\\Bases\\\\Bug\\\\bug2017_stainnorm_validation_1000px\\\\ilu_48631\\\\ilu_48631_01_03.tif',\n",
       " '..\\\\Bases\\\\Bug\\\\bug2017_stainnorm_validation_1000px\\\\ilu_74234\\\\ilu_74234_01_03.tif',\n",
       " '..\\\\Bases\\\\Bug\\\\bug2017_stainnorm_validation_1000px\\\\ilu_74234\\\\ilu_74234_01_03.tif',\n",
       " '..\\\\Bases\\\\Bug\\\\bug2017_stainnorm_validation_1000px\\\\ilu_74234\\\\ilu_74234_01_03.tif',\n",
       " '..\\\\Bases\\\\Bug\\\\bug2017_stainnorm_validation_1000px\\\\ilu_74234\\\\ilu_74234_01_03.tif',\n",
       " '..\\\\Bases\\\\Bug\\\\bug2017_stainnorm_validation_1000px\\\\ilu_74234\\\\ilu_74234_01_03.tif',\n",
       " '..\\\\Bases\\\\Bug\\\\bug2017_stainnorm_validation_1000px\\\\ilu_74234\\\\ilu_74234_01_03.tif',\n",
       " '..\\\\Bases\\\\Bug\\\\bug2017_stainnorm_validation_1000px\\\\ilu_74234\\\\ilu_74234_01_03.tif',\n",
       " '..\\\\Bases\\\\Bug\\\\bug2017_stainnorm_validation_1000px\\\\ilu_74234\\\\ilu_74234_01_03.tif',\n",
       " '..\\\\Bases\\\\Bug\\\\bug2017_stainnorm_validation_1000px\\\\ilu_74234\\\\ilu_74234_01_03.tif',\n",
       " '..\\\\Bases\\\\Bug\\\\bug2017_stainnorm_validation_1000px\\\\ilu_74234\\\\ilu_74234_01_03.tif',\n",
       " '..\\\\Bases\\\\Bug\\\\bug2017_stainnorm_validation_1000px\\\\ilu_74234\\\\ilu_74234_01_03.tif',\n",
       " '..\\\\Bases\\\\Bug\\\\bug2017_stainnorm_validation_1000px\\\\ilu_74234\\\\ilu_74234_01_03.tif',\n",
       " '..\\\\Bases\\\\Bug\\\\bug2017_stainnorm_validation_1000px\\\\ilu_74234\\\\ilu_74234_01_03.tif',\n",
       " '..\\\\Bases\\\\Bug\\\\bug2017_stainnorm_validation_1000px\\\\ilu_74234\\\\ilu_74234_01_03.tif',\n",
       " '..\\\\Bases\\\\Bug\\\\bug2017_stainnorm_validation_1000px\\\\ilu_74234\\\\ilu_74234_01_03.tif',\n",
       " '..\\\\Bases\\\\Bug\\\\bug2017_stainnorm_validation_1000px\\\\ilu_74234\\\\ilu_74234_01_03.tif',\n",
       " '..\\\\Bases\\\\Bug\\\\bug2017_stainnorm_validation_1000px\\\\ilu_74234\\\\ilu_74234_01_03.tif',\n",
       " '..\\\\Bases\\\\Bug\\\\bug2017_stainnorm_validation_1000px\\\\ilu_74234\\\\ilu_74234_01_03.tif',\n",
       " '..\\\\Bases\\\\Bug\\\\bug2017_stainnorm_validation_1000px\\\\ilu_74234\\\\ilu_74234_01_03.tif',\n",
       " '..\\\\Bases\\\\Bug\\\\bug2017_stainnorm_validation_1000px\\\\ilu_74234\\\\ilu_74234_01_03.tif',\n",
       " '..\\\\Bases\\\\Bug\\\\bug2017_stainnorm_validation_1000px\\\\ilu_74234\\\\ilu_74234_01_03.tif',\n",
       " '..\\\\Bases\\\\Bug\\\\bug2017_stainnorm_validation_1000px\\\\ilu_74234\\\\ilu_74234_01_03.tif',\n",
       " '..\\\\Bases\\\\Bug\\\\bug2017_stainnorm_validation_1000px\\\\ilu_74234\\\\ilu_74234_01_03.tif',\n",
       " '..\\\\Bases\\\\Bug\\\\bug2017_stainnorm_validation_1000px\\\\ilu_74234\\\\ilu_74234_01_03.tif',\n",
       " '..\\\\Bases\\\\Bug\\\\bug2017_stainnorm_validation_1000px\\\\ilu_74234\\\\ilu_74234_01_03.tif',\n",
       " '..\\\\Bases\\\\Bug\\\\bug2017_stainnorm_validation_1000px\\\\ilu_74234\\\\ilu_74234_01_03.tif',\n",
       " '..\\\\Bases\\\\Bug\\\\bug2017_stainnorm_validation_1000px\\\\ilu_74234\\\\ilu_74234_01_03.tif',\n",
       " '..\\\\Bases\\\\Bug\\\\bug2017_stainnorm_validation_1000px\\\\ilu_74234\\\\ilu_74234_01_03.tif',\n",
       " '..\\\\Bases\\\\Bug\\\\bug2017_stainnorm_validation_1000px\\\\ilu_74234\\\\ilu_74234_01_03.tif',\n",
       " '..\\\\Bases\\\\Bug\\\\bug2017_stainnorm_validation_1000px\\\\ilu_74234\\\\ilu_74234_01_03.tif',\n",
       " '..\\\\Bases\\\\Bug\\\\bug2017_stainnorm_validation_1000px\\\\ilu_74234\\\\ilu_74234_01_03.tif',\n",
       " '..\\\\Bases\\\\Bug\\\\bug2017_stainnorm_validation_1000px\\\\ilu_74234\\\\ilu_74234_01_03.tif',\n",
       " '..\\\\Bases\\\\Bug\\\\bug2017_stainnorm_validation_1000px\\\\ilu_74234\\\\ilu_74234_01_03.tif',\n",
       " '..\\\\Bases\\\\Bug\\\\bug2017_stainnorm_validation_1000px\\\\ilu_74234\\\\ilu_74234_01_03.tif',\n",
       " '..\\\\Bases\\\\Bug\\\\bug2017_stainnorm_validation_1000px\\\\ilu_74234\\\\ilu_74234_01_03.tif',\n",
       " '..\\\\Bases\\\\Bug\\\\bug2017_stainnorm_validation_1000px\\\\ilu_74234\\\\ilu_74234_01_03.tif',\n",
       " '..\\\\Bases\\\\Bug\\\\bug2017_stainnorm_validation_1000px\\\\ilu_74234\\\\ilu_74234_01_03.tif',\n",
       " '..\\\\Bases\\\\Bug\\\\bug2017_stainnorm_validation_1000px\\\\ilu_74234\\\\ilu_74234_01_03.tif',\n",
       " '..\\\\Bases\\\\Bug\\\\bug2017_stainnorm_validation_1000px\\\\ilu_74234\\\\ilu_74234_01_03.tif',\n",
       " '..\\\\Bases\\\\Bug\\\\bug2017_stainnorm_validation_1000px\\\\ilu_74234\\\\ilu_74234_01_03.tif',\n",
       " '..\\\\Bases\\\\Bug\\\\bug2017_stainnorm_validation_1000px\\\\ilu_74234\\\\ilu_74234_01_03.tif',\n",
       " '..\\\\Bases\\\\Bug\\\\bug2017_stainnorm_validation_1000px\\\\ilu_74234\\\\ilu_74234_01_03.tif',\n",
       " '..\\\\Bases\\\\Bug\\\\bug2017_stainnorm_validation_1000px\\\\ilu_74234\\\\ilu_74234_01_03.tif',\n",
       " '..\\\\Bases\\\\Bug\\\\bug2017_stainnorm_validation_1000px\\\\ilu_74234\\\\ilu_74234_01_03.tif',\n",
       " '..\\\\Bases\\\\Bug\\\\bug2017_stainnorm_validation_1000px\\\\ilu_74235\\\\ilu_74235_01_03.tif',\n",
       " '..\\\\Bases\\\\Bug\\\\bug2017_stainnorm_validation_1000px\\\\ilu_74235\\\\ilu_74235_01_03.tif',\n",
       " '..\\\\Bases\\\\Bug\\\\bug2017_stainnorm_validation_1000px\\\\ilu_74235\\\\ilu_74235_01_03.tif',\n",
       " '..\\\\Bases\\\\Bug\\\\bug2017_stainnorm_validation_1000px\\\\ilu_74235\\\\ilu_74235_01_03.tif',\n",
       " '..\\\\Bases\\\\Bug\\\\bug2017_stainnorm_validation_1000px\\\\ilu_74235\\\\ilu_74235_01_03.tif',\n",
       " '..\\\\Bases\\\\Bug\\\\bug2017_stainnorm_validation_1000px\\\\ilu_74235\\\\ilu_74235_01_03.tif',\n",
       " '..\\\\Bases\\\\Bug\\\\bug2017_stainnorm_validation_1000px\\\\ilu_74235\\\\ilu_74235_01_03.tif',\n",
       " '..\\\\Bases\\\\Bug\\\\bug2017_stainnorm_validation_1000px\\\\ilu_74235\\\\ilu_74235_01_03.tif',\n",
       " '..\\\\Bases\\\\Bug\\\\bug2017_stainnorm_validation_1000px\\\\ilu_74235\\\\ilu_74235_01_03.tif',\n",
       " '..\\\\Bases\\\\Bug\\\\bug2017_stainnorm_validation_1000px\\\\ilu_74235\\\\ilu_74235_01_03.tif',\n",
       " '..\\\\Bases\\\\Bug\\\\bug2017_stainnorm_validation_1000px\\\\ilu_74235\\\\ilu_74235_01_03.tif',\n",
       " '..\\\\Bases\\\\Bug\\\\bug2017_stainnorm_validation_1000px\\\\ilu_74235\\\\ilu_74235_01_03.tif',\n",
       " '..\\\\Bases\\\\Bug\\\\bug2017_stainnorm_validation_1000px\\\\ilu_74235\\\\ilu_74235_01_03.tif',\n",
       " '..\\\\Bases\\\\Bug\\\\bug2017_stainnorm_validation_1000px\\\\ilu_74235\\\\ilu_74235_01_03.tif',\n",
       " '..\\\\Bases\\\\Bug\\\\bug2017_stainnorm_validation_1000px\\\\ilu_74235\\\\ilu_74235_01_03.tif',\n",
       " '..\\\\Bases\\\\Bug\\\\bug2017_stainnorm_validation_1000px\\\\ilu_74235\\\\ilu_74235_01_03.tif',\n",
       " '..\\\\Bases\\\\Bug\\\\bug2017_stainnorm_validation_1000px\\\\ilu_74235\\\\ilu_74235_01_03.tif',\n",
       " '..\\\\Bases\\\\Bug\\\\bug2017_stainnorm_validation_1000px\\\\ilu_74235\\\\ilu_74235_01_03.tif',\n",
       " '..\\\\Bases\\\\Bug\\\\bug2017_stainnorm_validation_1000px\\\\ilu_74235\\\\ilu_74235_01_03.tif',\n",
       " '..\\\\Bases\\\\Bug\\\\bug2017_stainnorm_validation_1000px\\\\ilu_74235\\\\ilu_74235_01_03.tif',\n",
       " '..\\\\Bases\\\\Bug\\\\bug2017_stainnorm_validation_1000px\\\\ilu_74235\\\\ilu_74235_01_03.tif',\n",
       " '..\\\\Bases\\\\Bug\\\\bug2017_stainnorm_validation_1000px\\\\ilu_74235\\\\ilu_74235_01_03.tif',\n",
       " '..\\\\Bases\\\\Bug\\\\bug2017_stainnorm_validation_1000px\\\\ilu_74235\\\\ilu_74235_01_03.tif',\n",
       " '..\\\\Bases\\\\Bug\\\\bug2017_stainnorm_validation_1000px\\\\ilu_74235\\\\ilu_74235_01_03.tif',\n",
       " '..\\\\Bases\\\\Bug\\\\bug2017_stainnorm_validation_1000px\\\\ilu_74235\\\\ilu_74235_01_03.tif',\n",
       " '..\\\\Bases\\\\Bug\\\\bug2017_stainnorm_validation_1000px\\\\ilu_74235\\\\ilu_74235_01_03.tif',\n",
       " '..\\\\Bases\\\\Bug\\\\bug2017_stainnorm_validation_1000px\\\\ilu_74235\\\\ilu_74235_01_03.tif',\n",
       " '..\\\\Bases\\\\Bug\\\\bug2017_stainnorm_validation_1000px\\\\ilu_74235\\\\ilu_74235_01_03.tif',\n",
       " '..\\\\Bases\\\\Bug\\\\bug2017_stainnorm_validation_1000px\\\\ilu_74235\\\\ilu_74235_01_03.tif',\n",
       " '..\\\\Bases\\\\Bug\\\\bug2017_stainnorm_validation_1000px\\\\ilu_74235\\\\ilu_74235_01_03.tif',\n",
       " '..\\\\Bases\\\\Bug\\\\bug2017_stainnorm_validation_1000px\\\\ilu_74235\\\\ilu_74235_01_03.tif',\n",
       " '..\\\\Bases\\\\Bug\\\\bug2017_stainnorm_validation_1000px\\\\ilu_74235\\\\ilu_74235_01_03.tif',\n",
       " '..\\\\Bases\\\\Bug\\\\bug2017_stainnorm_validation_1000px\\\\ilu_74235\\\\ilu_74235_01_03.tif',\n",
       " '..\\\\Bases\\\\Bug\\\\bug2017_stainnorm_validation_1000px\\\\ilu_74235\\\\ilu_74235_01_03.tif',\n",
       " '..\\\\Bases\\\\Bug\\\\bug2017_stainnorm_validation_1000px\\\\ilu_74235\\\\ilu_74235_01_03.tif',\n",
       " '..\\\\Bases\\\\Bug\\\\bug2017_stainnorm_validation_1000px\\\\ilu_74235\\\\ilu_74235_01_03.tif',\n",
       " '..\\\\Bases\\\\Bug\\\\bug2017_stainnorm_validation_1000px\\\\ilu_74235\\\\ilu_74235_01_03.tif',\n",
       " '..\\\\Bases\\\\Bug\\\\bug2017_stainnorm_validation_1000px\\\\ilu_74235\\\\ilu_74235_01_03.tif',\n",
       " '..\\\\Bases\\\\Bug\\\\bug2017_stainnorm_validation_1000px\\\\ilu_74235\\\\ilu_74235_01_03.tif',\n",
       " '..\\\\Bases\\\\Bug\\\\bug2017_stainnorm_validation_1000px\\\\ilu_74235\\\\ilu_74235_01_03.tif',\n",
       " '..\\\\Bases\\\\Bug\\\\bug2017_stainnorm_validation_1000px\\\\ilu_74235\\\\ilu_74235_01_03.tif',\n",
       " '..\\\\Bases\\\\Bug\\\\bug2017_stainnorm_validation_1000px\\\\ilu_74235\\\\ilu_74235_01_03.tif',\n",
       " '..\\\\Bases\\\\Bug\\\\bug2017_stainnorm_validation_1000px\\\\ilu_74235\\\\ilu_74235_01_03.tif',\n",
       " '..\\\\Bases\\\\Bug\\\\bug2017_stainnorm_validation_1000px\\\\ilu_74235\\\\ilu_74235_01_03.tif']"
      ]
     },
     "execution_count": 3,
     "metadata": {},
     "output_type": "execute_result"
    }
   ],
   "source": [
    "targets, sources = bug(\"..\\\\Bases\\\\Bug\")\n",
    "targets"
   ]
  },
  {
   "cell_type": "code",
   "execution_count": 18,
   "id": "4f8d922e-c147-42c0-baa7-35ca24b56408",
   "metadata": {},
   "outputs": [],
   "source": [
    "def displasia(dir):\n",
    "    subdirs_path = os.path.join(dir, \"ROIs_no_pre_processing\")\n",
    "    subdirs = os.listdir(subdirs_path)\n",
    "    sources = []\n",
    "    for subdir in subdirs:\n",
    "        image_path = os.path.join(subdirs_path, subdir)\n",
    "        files = os.listdir(image_path)\n",
    "        sources.extend([os.path.join(image_path, file) for file in files])\n",
    "    return sources"
   ]
  },
  {
   "cell_type": "code",
   "execution_count": 22,
   "id": "e9abb400-46b4-4ac9-b286-89842424660e",
   "metadata": {},
   "outputs": [],
   "source": [
    "sources = displasia(\"../Bases/Displasia\")\n",
    "#print(sources)"
   ]
  },
  {
   "cell_type": "code",
   "execution_count": 20,
   "id": "c4dfbe8f-30a0-4df9-b09c-cff5ed0411e0",
   "metadata": {},
   "outputs": [
    {
     "name": "stdout",
     "output_type": "stream",
     "text": [
      "1 2\n",
      "2 4\n"
     ]
    }
   ],
   "source": [
    "targets = [1, 2]\n",
    "sources = [2, 4, 6, 8, 10]\n",
    "\n",
    "for target, source in zip(targets, sources):\n",
    "    print(target, source)"
   ]
  },
  {
   "cell_type": "code",
   "execution_count": 21,
   "id": "60c3f0fa-06b0-47c6-8a90-8416eb8101f4",
   "metadata": {
    "tags": []
   },
   "outputs": [
    {
     "ename": "TypeError",
     "evalue": "list expected at most 1 argument, got 2",
     "output_type": "error",
     "traceback": [
      "\u001b[1;31m---------------------------------------------------------------------------\u001b[0m",
      "\u001b[1;31mTypeError\u001b[0m                                 Traceback (most recent call last)",
      "Cell \u001b[1;32mIn[21], line 1\u001b[0m\n\u001b[1;32m----> 1\u001b[0m a \u001b[38;5;241m=\u001b[39m \u001b[38;5;28mlist\u001b[39m(\u001b[38;5;241m1\u001b[39m, \u001b[38;5;241m19\u001b[39m)\n",
      "\u001b[1;31mTypeError\u001b[0m: list expected at most 1 argument, got 2"
     ]
    }
   ],
   "source": []
  },
  {
   "cell_type": "code",
   "execution_count": null,
   "id": "545ee536-7fad-4984-b291-d1ef7781b618",
   "metadata": {},
   "outputs": [],
   "source": []
  }
 ],
 "metadata": {
  "kernelspec": {
   "display_name": "Python 3 (ipykernel)",
   "language": "python",
   "name": "python3"
  },
  "language_info": {
   "codemirror_mode": {
    "name": "ipython",
    "version": 3
   },
   "file_extension": ".py",
   "mimetype": "text/x-python",
   "name": "python",
   "nbconvert_exporter": "python",
   "pygments_lexer": "ipython3",
   "version": "3.11.5"
  }
 },
 "nbformat": 4,
 "nbformat_minor": 5
}
