{
 "cells": [
  {
   "cell_type": "code",
   "execution_count": 1,
   "id": "909eef0b-de82-43c7-bbe0-7027f4099fc5",
   "metadata": {
    "tags": []
   },
   "outputs": [],
   "source": [
    "import os\n",
    "import numpy as np\n",
    "import cv2\n",
    "import time"
   ]
  },
  {
   "cell_type": "code",
   "execution_count": 7,
   "id": "0daaba4e-425b-4529-b125-c68634f75466",
   "metadata": {
    "tags": []
   },
   "outputs": [
    {
     "data": {
      "text/plain": [
       "'\\nfor target, sources in database.items():\\n    for source in sources:\\n        print(target, source)\\n    print()\\n'"
      ]
     },
     "execution_count": 7,
     "metadata": {},
     "output_type": "execute_result"
    }
   ],
   "source": [
    "def concentration_variation(dir):    \n",
    "    # imagens originais\n",
    "    files = os.listdir(dir)\n",
    "    sources = []\n",
    "    for file in files:\n",
    "        if not os.path.isdir(os.path.join(dir, file)):\n",
    "            sources.append(file)\n",
    "    \n",
    "    # imagens de referência\n",
    "    target_dir = os.path.join(dir, \"refs\")\n",
    "    files = os.listdir(target_dir)\n",
    "    targets = [file for file in files]\n",
    "\n",
    "    database = {}\n",
    "    for target in targets:\n",
    "        target_prefix = \"_\".join(target.split(\"_\")[:-1])\n",
    "        match = [source for source in sources if source.startswith(target_prefix)]\n",
    "        database[os.path.join(target_dir, target)] = [os.path.join(dir, m) for m in match]\n",
    "    \n",
    "    '''\n",
    "    for target, source in database.items():\n",
    "        print(target, source)\n",
    "    '''\n",
    "    \n",
    "    return database\n",
    "\n",
    "dir = '..\\\\Bases\\\\Concentration variation'\n",
    "database = concentration_variation(dir)\n",
    "\n",
    "'''\n",
    "for target, sources in database.items():\n",
    "    for source in sources:\n",
    "        print(target, source)\n",
    "    print()\n",
    "'''"
   ]
  },
  {
   "cell_type": "code",
   "execution_count": 4,
   "id": "b061896a-0fd2-422d-9835-b9f1d5982162",
   "metadata": {
    "tags": []
   },
   "outputs": [
    {
     "data": {
      "text/plain": [
       "'\\nfor target, source in database.items():\\n    print(target, source)\\n'"
      ]
     },
     "execution_count": 4,
     "metadata": {},
     "output_type": "execute_result"
    }
   ],
   "source": [
    "def scanners_variation(dir):\n",
    "    cuts = ['corte 16.1', 'corte 16.4', 'corte 32.5']\n",
    "    database = {}\n",
    "    for cut in cuts:\n",
    "        cut_dir = os.path.join(dir, cut)\n",
    "        files = os.listdir(cut_dir)\n",
    "        for file in files:\n",
    "            file_dir = os.path.join(cut_dir, file)\n",
    "            if os.path.isdir(file_dir):\n",
    "                images = os.listdir(file_dir)\n",
    "                if file == 'original':\n",
    "                    targets = [os.path.join(file_dir, image) for image in images]\n",
    "                else:\n",
    "                    sources = [os.path.join(file_dir, image) for image in images]\n",
    "        \n",
    "        for target, source in zip(targets, sources):\n",
    "            database[target] = source\n",
    "        \n",
    "    return database\n",
    "    \n",
    "database = scanners_variation(\".\\\\Bases\\\\Scanners variation\")\n",
    "\n",
    "'''\n",
    "for target, source in database.items():\n",
    "    print(target, source)\n",
    "'''"
   ]
  },
  {
   "cell_type": "code",
   "execution_count": null,
   "id": "5b2f58a5-a419-4367-addb-33584aab444f",
   "metadata": {
    "tags": []
   },
   "outputs": [],
   "source": []
  },
  {
   "cell_type": "code",
   "execution_count": 75,
   "id": "e4b5b3fc-8ec3-48e8-b78f-54900a8b2daf",
   "metadata": {
    "tags": []
   },
   "outputs": [
    {
     "name": "stdout",
     "output_type": "stream",
     "text": [
      "<generator object _walk at 0x000001E0B7B94A50>\n"
     ]
    }
   ],
   "source": [
    "search = os.walk(\"../Bases/MITOS\")\n",
    "print(search)"
   ]
  },
  {
   "cell_type": "code",
   "execution_count": 82,
   "id": "a74477b6-0b8a-496f-980f-6d234250e353",
   "metadata": {
    "tags": []
   },
   "outputs": [],
   "source": [
    "def MITOS(dir):\n",
    "    for currentdir, subdirs, files in os.walk(dir):\n",
    "        if currentdir.endswith(\"Aperio\"):\n",
    "            targets = [os.path.join(currentdir, file) for file in files if file.startswith(\"A\")]\n",
    "        elif currentdir.endswith(\"Hamamatsu\"):\n",
    "            sources = [os.path.join(currentdir, file) for file in files if file.startswith(\"H\")]\n",
    "    return targets, sources        "
   ]
  },
  {
   "cell_type": "code",
   "execution_count": 84,
   "id": "23374a0c-46cc-4338-bc6d-4dcab2fc1d5a",
   "metadata": {
    "tags": []
   },
   "outputs": [
    {
     "name": "stdout",
     "output_type": "stream",
     "text": [
      "3200 3200\n"
     ]
    }
   ],
   "source": [
    "targets, sources = MITOS(\"../Bases/MITOS\")\n",
    "print(len(targets), len(sources))"
   ]
  },
  {
   "cell_type": "code",
   "execution_count": 16,
   "id": "3585f90c-770b-494d-8ee8-0082d00333db",
   "metadata": {
    "tags": []
   },
   "outputs": [
    {
     "name": "stdout",
     "output_type": "stream",
     "text": [
      "Database: MITOS\t Magnification: 40px\t Scheme: KL\t Total images: 3200\n",
      "\n",
      "Image\t Filename\t Completed\t Estimated (min)\n"
     ]
    },
    {
     "data": {
      "text/plain": [
       "'\\nfor index, (target_path, source_path) in enumerate(zip(targets, sources), start=1):\\n\\n    target_filename = target_path[(target_path.rfind(\"\\\\\") + 1):]\\n    completed = round((index/len(targets)) * 100, 2)\\n    \\n    tempo_decorrido = time.time() - start\\n    tempo_estimado_total = (tempo_decorrido / completed) * len(targets) - tempo_decorrido\\n    tempo_estimado_minutos = tempo_estimado_total / 60  # Converter para minutos\\n        \\n    str_minutos, str_segundos = str(tempo_estimado_minutos).split(\\'.\\')\\n    minutos = int(str_minutos)\\n    segundos = float(str_minutos)\\n    segundos = int(segundos * 60)\\n        \\n    print(f\"{index}\\t {target_filename}\\t {completed}%\\t\\t {minutos}:{segundos}\")\\n    \\nprint(len(targets), len(sources))'"
      ]
     },
     "execution_count": 16,
     "metadata": {},
     "output_type": "execute_result"
    }
   ],
   "source": [
    "targets, sources = MITOS(\"..\\\\bases\\\\MITOS\")\n",
    "print(f\"Database: MITOS\\t Magnification: 40px\\t Scheme: KL\\t Total images: {len(targets)}\\n\")\n",
    "print(f\"Image\\t Filename\\t Completed\\t Estimated (min)\")\n",
    "start = time.time()\n",
    "'''\n",
    "for index, (target_path, source_path) in enumerate(zip(targets, sources), start=1):\n",
    "\n",
    "    target_filename = target_path[(target_path.rfind(\"\\\\\") + 1):]\n",
    "    completed = round((index/len(targets)) * 100, 2)\n",
    "    \n",
    "    tempo_decorrido = time.time() - start\n",
    "    tempo_estimado_total = (tempo_decorrido / completed) * len(targets) - tempo_decorrido\n",
    "    tempo_estimado_minutos = tempo_estimado_total / 60  # Converter para minutos\n",
    "        \n",
    "    str_minutos, str_segundos = str(tempo_estimado_minutos).split('.')\n",
    "    minutos = int(str_minutos)\n",
    "    segundos = float(str_minutos)\n",
    "    segundos = int(segundos * 60)\n",
    "        \n",
    "    print(f\"{index}\\t {target_filename}\\t {completed}%\\t\\t {minutos}:{segundos}\")\n",
    "    \n",
    "print(len(targets), len(sources))'''"
   ]
  },
  {
   "cell_type": "code",
   "execution_count": 2,
   "id": "943843ce-6373-4bb3-87b8-0efc67948cd3",
   "metadata": {
    "tags": []
   },
   "outputs": [],
   "source": [
    "def bug(dir):\n",
    "    subdirs_path = os.path.join(dir, \"bug2017_stainnorm_validation_1000px\")\n",
    "    subdirs = os.listdir(subdirs_path)\n",
    "    database = {}\n",
    "    targets = []\n",
    "    sources = []\n",
    "    for subdir in subdirs:\n",
    "        image_path = os.path.join(subdirs_path, subdir)\n",
    "        files = os.listdir(image_path)\n",
    "        targets.extend(os.path.join(image_path, files[2]) for i in range(len(files) - 1))\n",
    "        del files[2]\n",
    "        sources.extend([os.path.join(image_path, file) for file in files.copy()])\n",
    "    return targets, sources        "
   ]
  },
  {
   "cell_type": "code",
   "execution_count": 139,
   "id": "7e3e2820-65aa-41eb-a1c3-10f65338c4ce",
   "metadata": {
    "tags": []
   },
   "outputs": [],
   "source": [
    "def BUG(dir):\n",
    "    targets = []\n",
    "    sources = []\n",
    "    for currentdir, subdirs, files in os.walk(dir):\n",
    "        nfiles = len(files)\n",
    "        if nfiles != 0:\n",
    "            for file in files:\n",
    "                if file.endswith(\"03.tif\"):\n",
    "                    repeated_files = [os.path.join(currentdir, file)] * 8\n",
    "                    targets.extend(repeated_files)\n",
    "                else:\n",
    "                    sources.append(os.path.join(currentdir, file))\n",
    "    return targets, sources"
   ]
  },
  {
   "cell_type": "code",
   "execution_count": 141,
   "id": "5cbb2d19-4688-4f5a-97d8-3b800f30c393",
   "metadata": {},
   "outputs": [
    {
     "name": "stdout",
     "output_type": "stream",
     "text": [
      "..\\Bases\\Bug\\bug2017_stainnorm_validation_1000px\\ilu_47453\\ilu_47453_01_01.tif\n",
      "..\\Bases\\Bug\\bug2017_stainnorm_validation_1000px\\ilu_47453\\ilu_47453_01_02.tif\n",
      "..\\Bases\\Bug\\bug2017_stainnorm_validation_1000px\\ilu_47453\\ilu_47453_01_04.tif\n",
      "..\\Bases\\Bug\\bug2017_stainnorm_validation_1000px\\ilu_47453\\ilu_47453_01_05.tif\n",
      "..\\Bases\\Bug\\bug2017_stainnorm_validation_1000px\\ilu_47453\\ilu_47453_01_06.tif\n",
      "..\\Bases\\Bug\\bug2017_stainnorm_validation_1000px\\ilu_47453\\ilu_47453_01_07.tif\n",
      "..\\Bases\\Bug\\bug2017_stainnorm_validation_1000px\\ilu_47453\\ilu_47453_01_08.tif\n",
      "..\\Bases\\Bug\\bug2017_stainnorm_validation_1000px\\ilu_47453\\ilu_47453_01_09.tif\n",
      "..\\Bases\\Bug\\bug2017_stainnorm_validation_1000px\\ilu_47453\\ilu_47453_02_01.tif\n",
      "..\\Bases\\Bug\\bug2017_stainnorm_validation_1000px\\ilu_47453\\ilu_47453_02_02.tif\n",
      "..\\Bases\\Bug\\bug2017_stainnorm_validation_1000px\\ilu_47453\\ilu_47453_02_04.tif\n",
      "..\\Bases\\Bug\\bug2017_stainnorm_validation_1000px\\ilu_47453\\ilu_47453_02_05.tif\n",
      "..\\Bases\\Bug\\bug2017_stainnorm_validation_1000px\\ilu_47453\\ilu_47453_02_06.tif\n",
      "..\\Bases\\Bug\\bug2017_stainnorm_validation_1000px\\ilu_47453\\ilu_47453_02_07.tif\n",
      "..\\Bases\\Bug\\bug2017_stainnorm_validation_1000px\\ilu_47453\\ilu_47453_02_08.tif\n",
      "..\\Bases\\Bug\\bug2017_stainnorm_validation_1000px\\ilu_47453\\ilu_47453_02_09.tif\n",
      "..\\Bases\\Bug\\bug2017_stainnorm_validation_1000px\\ilu_47453\\ilu_47453_03_01.tif\n",
      "..\\Bases\\Bug\\bug2017_stainnorm_validation_1000px\\ilu_47453\\ilu_47453_03_02.tif\n",
      "..\\Bases\\Bug\\bug2017_stainnorm_validation_1000px\\ilu_47453\\ilu_47453_03_04.tif\n",
      "..\\Bases\\Bug\\bug2017_stainnorm_validation_1000px\\ilu_47453\\ilu_47453_03_05.tif\n",
      "..\\Bases\\Bug\\bug2017_stainnorm_validation_1000px\\ilu_47453\\ilu_47453_03_06.tif\n",
      "..\\Bases\\Bug\\bug2017_stainnorm_validation_1000px\\ilu_47453\\ilu_47453_03_07.tif\n",
      "..\\Bases\\Bug\\bug2017_stainnorm_validation_1000px\\ilu_47453\\ilu_47453_03_08.tif\n",
      "..\\Bases\\Bug\\bug2017_stainnorm_validation_1000px\\ilu_47453\\ilu_47453_03_09.tif\n",
      "..\\Bases\\Bug\\bug2017_stainnorm_validation_1000px\\ilu_47453\\ilu_47453_04_01.tif\n",
      "..\\Bases\\Bug\\bug2017_stainnorm_validation_1000px\\ilu_47453\\ilu_47453_04_02.tif\n",
      "..\\Bases\\Bug\\bug2017_stainnorm_validation_1000px\\ilu_47453\\ilu_47453_04_04.tif\n",
      "..\\Bases\\Bug\\bug2017_stainnorm_validation_1000px\\ilu_47453\\ilu_47453_04_05.tif\n",
      "..\\Bases\\Bug\\bug2017_stainnorm_validation_1000px\\ilu_47453\\ilu_47453_04_06.tif\n",
      "..\\Bases\\Bug\\bug2017_stainnorm_validation_1000px\\ilu_47453\\ilu_47453_04_07.tif\n",
      "..\\Bases\\Bug\\bug2017_stainnorm_validation_1000px\\ilu_47453\\ilu_47453_04_08.tif\n",
      "..\\Bases\\Bug\\bug2017_stainnorm_validation_1000px\\ilu_47453\\ilu_47453_04_09.tif\n",
      "..\\Bases\\Bug\\bug2017_stainnorm_validation_1000px\\ilu_47453\\ilu_47453_05_01.tif\n",
      "..\\Bases\\Bug\\bug2017_stainnorm_validation_1000px\\ilu_47453\\ilu_47453_05_02.tif\n",
      "..\\Bases\\Bug\\bug2017_stainnorm_validation_1000px\\ilu_47453\\ilu_47453_05_04.tif\n",
      "..\\Bases\\Bug\\bug2017_stainnorm_validation_1000px\\ilu_47453\\ilu_47453_05_05.tif\n",
      "..\\Bases\\Bug\\bug2017_stainnorm_validation_1000px\\ilu_47453\\ilu_47453_05_06.tif\n",
      "..\\Bases\\Bug\\bug2017_stainnorm_validation_1000px\\ilu_47453\\ilu_47453_05_07.tif\n",
      "..\\Bases\\Bug\\bug2017_stainnorm_validation_1000px\\ilu_47453\\ilu_47453_05_08.tif\n",
      "..\\Bases\\Bug\\bug2017_stainnorm_validation_1000px\\ilu_47453\\ilu_47453_05_09.tif\n",
      "..\\Bases\\Bug\\bug2017_stainnorm_validation_1000px\\ilu_47691\\ilu_47691_01_01.tif\n",
      "..\\Bases\\Bug\\bug2017_stainnorm_validation_1000px\\ilu_47691\\ilu_47691_01_02.tif\n",
      "..\\Bases\\Bug\\bug2017_stainnorm_validation_1000px\\ilu_47691\\ilu_47691_01_04.tif\n",
      "..\\Bases\\Bug\\bug2017_stainnorm_validation_1000px\\ilu_47691\\ilu_47691_01_05.tif\n",
      "..\\Bases\\Bug\\bug2017_stainnorm_validation_1000px\\ilu_47691\\ilu_47691_01_06.tif\n",
      "..\\Bases\\Bug\\bug2017_stainnorm_validation_1000px\\ilu_47691\\ilu_47691_01_07.tif\n",
      "..\\Bases\\Bug\\bug2017_stainnorm_validation_1000px\\ilu_47691\\ilu_47691_01_08.tif\n",
      "..\\Bases\\Bug\\bug2017_stainnorm_validation_1000px\\ilu_47691\\ilu_47691_01_09.tif\n",
      "..\\Bases\\Bug\\bug2017_stainnorm_validation_1000px\\ilu_47691\\ilu_47691_02_01.tif\n",
      "..\\Bases\\Bug\\bug2017_stainnorm_validation_1000px\\ilu_47691\\ilu_47691_02_02.tif\n",
      "..\\Bases\\Bug\\bug2017_stainnorm_validation_1000px\\ilu_47691\\ilu_47691_02_04.tif\n",
      "..\\Bases\\Bug\\bug2017_stainnorm_validation_1000px\\ilu_47691\\ilu_47691_02_05.tif\n",
      "..\\Bases\\Bug\\bug2017_stainnorm_validation_1000px\\ilu_47691\\ilu_47691_02_06.tif\n",
      "..\\Bases\\Bug\\bug2017_stainnorm_validation_1000px\\ilu_47691\\ilu_47691_02_07.tif\n",
      "..\\Bases\\Bug\\bug2017_stainnorm_validation_1000px\\ilu_47691\\ilu_47691_02_08.tif\n",
      "..\\Bases\\Bug\\bug2017_stainnorm_validation_1000px\\ilu_47691\\ilu_47691_02_09.tif\n",
      "..\\Bases\\Bug\\bug2017_stainnorm_validation_1000px\\ilu_47691\\ilu_47691_03_01.tif\n",
      "..\\Bases\\Bug\\bug2017_stainnorm_validation_1000px\\ilu_47691\\ilu_47691_03_02.tif\n",
      "..\\Bases\\Bug\\bug2017_stainnorm_validation_1000px\\ilu_47691\\ilu_47691_03_04.tif\n",
      "..\\Bases\\Bug\\bug2017_stainnorm_validation_1000px\\ilu_47691\\ilu_47691_03_05.tif\n",
      "..\\Bases\\Bug\\bug2017_stainnorm_validation_1000px\\ilu_47691\\ilu_47691_03_06.tif\n",
      "..\\Bases\\Bug\\bug2017_stainnorm_validation_1000px\\ilu_47691\\ilu_47691_03_07.tif\n",
      "..\\Bases\\Bug\\bug2017_stainnorm_validation_1000px\\ilu_47691\\ilu_47691_03_08.tif\n",
      "..\\Bases\\Bug\\bug2017_stainnorm_validation_1000px\\ilu_47691\\ilu_47691_03_09.tif\n",
      "..\\Bases\\Bug\\bug2017_stainnorm_validation_1000px\\ilu_47691\\ilu_47691_04_01.tif\n",
      "..\\Bases\\Bug\\bug2017_stainnorm_validation_1000px\\ilu_47691\\ilu_47691_04_02.tif\n",
      "..\\Bases\\Bug\\bug2017_stainnorm_validation_1000px\\ilu_47691\\ilu_47691_04_04.tif\n",
      "..\\Bases\\Bug\\bug2017_stainnorm_validation_1000px\\ilu_47691\\ilu_47691_04_05.tif\n",
      "..\\Bases\\Bug\\bug2017_stainnorm_validation_1000px\\ilu_47691\\ilu_47691_04_06.tif\n",
      "..\\Bases\\Bug\\bug2017_stainnorm_validation_1000px\\ilu_47691\\ilu_47691_04_07.tif\n",
      "..\\Bases\\Bug\\bug2017_stainnorm_validation_1000px\\ilu_47691\\ilu_47691_04_08.tif\n",
      "..\\Bases\\Bug\\bug2017_stainnorm_validation_1000px\\ilu_47691\\ilu_47691_04_09.tif\n",
      "..\\Bases\\Bug\\bug2017_stainnorm_validation_1000px\\ilu_47691\\ilu_47691_05_01.tif\n",
      "..\\Bases\\Bug\\bug2017_stainnorm_validation_1000px\\ilu_47691\\ilu_47691_05_02.tif\n",
      "..\\Bases\\Bug\\bug2017_stainnorm_validation_1000px\\ilu_47691\\ilu_47691_05_04.tif\n",
      "..\\Bases\\Bug\\bug2017_stainnorm_validation_1000px\\ilu_47691\\ilu_47691_05_05.tif\n",
      "..\\Bases\\Bug\\bug2017_stainnorm_validation_1000px\\ilu_47691\\ilu_47691_05_06.tif\n",
      "..\\Bases\\Bug\\bug2017_stainnorm_validation_1000px\\ilu_47691\\ilu_47691_05_07.tif\n",
      "..\\Bases\\Bug\\bug2017_stainnorm_validation_1000px\\ilu_47691\\ilu_47691_05_08.tif\n",
      "..\\Bases\\Bug\\bug2017_stainnorm_validation_1000px\\ilu_47691\\ilu_47691_05_09.tif\n",
      "..\\Bases\\Bug\\bug2017_stainnorm_validation_1000px\\ilu_48631\\ilu_48631_01_01.tif\n",
      "..\\Bases\\Bug\\bug2017_stainnorm_validation_1000px\\ilu_48631\\ilu_48631_01_02.tif\n",
      "..\\Bases\\Bug\\bug2017_stainnorm_validation_1000px\\ilu_48631\\ilu_48631_01_04.tif\n",
      "..\\Bases\\Bug\\bug2017_stainnorm_validation_1000px\\ilu_48631\\ilu_48631_01_05.tif\n",
      "..\\Bases\\Bug\\bug2017_stainnorm_validation_1000px\\ilu_48631\\ilu_48631_01_06.tif\n",
      "..\\Bases\\Bug\\bug2017_stainnorm_validation_1000px\\ilu_48631\\ilu_48631_01_07.tif\n",
      "..\\Bases\\Bug\\bug2017_stainnorm_validation_1000px\\ilu_48631\\ilu_48631_01_08.tif\n",
      "..\\Bases\\Bug\\bug2017_stainnorm_validation_1000px\\ilu_48631\\ilu_48631_01_09.tif\n",
      "..\\Bases\\Bug\\bug2017_stainnorm_validation_1000px\\ilu_48631\\ilu_48631_02_01.tif\n",
      "..\\Bases\\Bug\\bug2017_stainnorm_validation_1000px\\ilu_48631\\ilu_48631_02_02.tif\n",
      "..\\Bases\\Bug\\bug2017_stainnorm_validation_1000px\\ilu_48631\\ilu_48631_02_04.tif\n",
      "..\\Bases\\Bug\\bug2017_stainnorm_validation_1000px\\ilu_48631\\ilu_48631_02_05.tif\n",
      "..\\Bases\\Bug\\bug2017_stainnorm_validation_1000px\\ilu_48631\\ilu_48631_02_06.tif\n",
      "..\\Bases\\Bug\\bug2017_stainnorm_validation_1000px\\ilu_48631\\ilu_48631_02_07.tif\n",
      "..\\Bases\\Bug\\bug2017_stainnorm_validation_1000px\\ilu_48631\\ilu_48631_02_08.tif\n",
      "..\\Bases\\Bug\\bug2017_stainnorm_validation_1000px\\ilu_48631\\ilu_48631_02_09.tif\n",
      "..\\Bases\\Bug\\bug2017_stainnorm_validation_1000px\\ilu_48631\\ilu_48631_03_01.tif\n",
      "..\\Bases\\Bug\\bug2017_stainnorm_validation_1000px\\ilu_48631\\ilu_48631_03_02.tif\n",
      "..\\Bases\\Bug\\bug2017_stainnorm_validation_1000px\\ilu_48631\\ilu_48631_03_04.tif\n",
      "..\\Bases\\Bug\\bug2017_stainnorm_validation_1000px\\ilu_48631\\ilu_48631_03_05.tif\n",
      "..\\Bases\\Bug\\bug2017_stainnorm_validation_1000px\\ilu_48631\\ilu_48631_03_06.tif\n",
      "..\\Bases\\Bug\\bug2017_stainnorm_validation_1000px\\ilu_48631\\ilu_48631_03_07.tif\n",
      "..\\Bases\\Bug\\bug2017_stainnorm_validation_1000px\\ilu_48631\\ilu_48631_03_08.tif\n",
      "..\\Bases\\Bug\\bug2017_stainnorm_validation_1000px\\ilu_48631\\ilu_48631_03_09.tif\n",
      "..\\Bases\\Bug\\bug2017_stainnorm_validation_1000px\\ilu_48631\\ilu_48631_04_01.tif\n",
      "..\\Bases\\Bug\\bug2017_stainnorm_validation_1000px\\ilu_48631\\ilu_48631_04_02.tif\n",
      "..\\Bases\\Bug\\bug2017_stainnorm_validation_1000px\\ilu_48631\\ilu_48631_04_04.tif\n",
      "..\\Bases\\Bug\\bug2017_stainnorm_validation_1000px\\ilu_48631\\ilu_48631_04_05.tif\n",
      "..\\Bases\\Bug\\bug2017_stainnorm_validation_1000px\\ilu_48631\\ilu_48631_04_06.tif\n",
      "..\\Bases\\Bug\\bug2017_stainnorm_validation_1000px\\ilu_48631\\ilu_48631_04_07.tif\n",
      "..\\Bases\\Bug\\bug2017_stainnorm_validation_1000px\\ilu_48631\\ilu_48631_04_08.tif\n",
      "..\\Bases\\Bug\\bug2017_stainnorm_validation_1000px\\ilu_48631\\ilu_48631_04_09.tif\n",
      "..\\Bases\\Bug\\bug2017_stainnorm_validation_1000px\\ilu_48631\\ilu_48631_05_01.tif\n",
      "..\\Bases\\Bug\\bug2017_stainnorm_validation_1000px\\ilu_48631\\ilu_48631_05_02.tif\n",
      "..\\Bases\\Bug\\bug2017_stainnorm_validation_1000px\\ilu_48631\\ilu_48631_05_04.tif\n",
      "..\\Bases\\Bug\\bug2017_stainnorm_validation_1000px\\ilu_48631\\ilu_48631_05_05.tif\n",
      "..\\Bases\\Bug\\bug2017_stainnorm_validation_1000px\\ilu_48631\\ilu_48631_05_06.tif\n",
      "..\\Bases\\Bug\\bug2017_stainnorm_validation_1000px\\ilu_48631\\ilu_48631_05_07.tif\n",
      "..\\Bases\\Bug\\bug2017_stainnorm_validation_1000px\\ilu_48631\\ilu_48631_05_08.tif\n",
      "..\\Bases\\Bug\\bug2017_stainnorm_validation_1000px\\ilu_48631\\ilu_48631_05_09.tif\n",
      "..\\Bases\\Bug\\bug2017_stainnorm_validation_1000px\\ilu_74234\\ilu_74234_01_01.tif\n",
      "..\\Bases\\Bug\\bug2017_stainnorm_validation_1000px\\ilu_74234\\ilu_74234_01_02.tif\n",
      "..\\Bases\\Bug\\bug2017_stainnorm_validation_1000px\\ilu_74234\\ilu_74234_01_04.tif\n",
      "..\\Bases\\Bug\\bug2017_stainnorm_validation_1000px\\ilu_74234\\ilu_74234_01_05.tif\n",
      "..\\Bases\\Bug\\bug2017_stainnorm_validation_1000px\\ilu_74234\\ilu_74234_01_06.tif\n",
      "..\\Bases\\Bug\\bug2017_stainnorm_validation_1000px\\ilu_74234\\ilu_74234_01_07.tif\n",
      "..\\Bases\\Bug\\bug2017_stainnorm_validation_1000px\\ilu_74234\\ilu_74234_01_08.tif\n",
      "..\\Bases\\Bug\\bug2017_stainnorm_validation_1000px\\ilu_74234\\ilu_74234_01_09.tif\n",
      "..\\Bases\\Bug\\bug2017_stainnorm_validation_1000px\\ilu_74234\\ilu_74234_02_01.tif\n",
      "..\\Bases\\Bug\\bug2017_stainnorm_validation_1000px\\ilu_74234\\ilu_74234_02_02.tif\n",
      "..\\Bases\\Bug\\bug2017_stainnorm_validation_1000px\\ilu_74234\\ilu_74234_02_04.tif\n",
      "..\\Bases\\Bug\\bug2017_stainnorm_validation_1000px\\ilu_74234\\ilu_74234_02_05.tif\n",
      "..\\Bases\\Bug\\bug2017_stainnorm_validation_1000px\\ilu_74234\\ilu_74234_02_06.tif\n",
      "..\\Bases\\Bug\\bug2017_stainnorm_validation_1000px\\ilu_74234\\ilu_74234_02_07.tif\n",
      "..\\Bases\\Bug\\bug2017_stainnorm_validation_1000px\\ilu_74234\\ilu_74234_02_08.tif\n",
      "..\\Bases\\Bug\\bug2017_stainnorm_validation_1000px\\ilu_74234\\ilu_74234_02_09.tif\n",
      "..\\Bases\\Bug\\bug2017_stainnorm_validation_1000px\\ilu_74234\\ilu_74234_03_01.tif\n",
      "..\\Bases\\Bug\\bug2017_stainnorm_validation_1000px\\ilu_74234\\ilu_74234_03_02.tif\n",
      "..\\Bases\\Bug\\bug2017_stainnorm_validation_1000px\\ilu_74234\\ilu_74234_03_04.tif\n",
      "..\\Bases\\Bug\\bug2017_stainnorm_validation_1000px\\ilu_74234\\ilu_74234_03_05.tif\n",
      "..\\Bases\\Bug\\bug2017_stainnorm_validation_1000px\\ilu_74234\\ilu_74234_03_06.tif\n",
      "..\\Bases\\Bug\\bug2017_stainnorm_validation_1000px\\ilu_74234\\ilu_74234_03_07.tif\n",
      "..\\Bases\\Bug\\bug2017_stainnorm_validation_1000px\\ilu_74234\\ilu_74234_03_08.tif\n",
      "..\\Bases\\Bug\\bug2017_stainnorm_validation_1000px\\ilu_74234\\ilu_74234_03_09.tif\n",
      "..\\Bases\\Bug\\bug2017_stainnorm_validation_1000px\\ilu_74234\\ilu_74234_04_01.tif\n",
      "..\\Bases\\Bug\\bug2017_stainnorm_validation_1000px\\ilu_74234\\ilu_74234_04_02.tif\n",
      "..\\Bases\\Bug\\bug2017_stainnorm_validation_1000px\\ilu_74234\\ilu_74234_04_04.tif\n",
      "..\\Bases\\Bug\\bug2017_stainnorm_validation_1000px\\ilu_74234\\ilu_74234_04_05.tif\n",
      "..\\Bases\\Bug\\bug2017_stainnorm_validation_1000px\\ilu_74234\\ilu_74234_04_06.tif\n",
      "..\\Bases\\Bug\\bug2017_stainnorm_validation_1000px\\ilu_74234\\ilu_74234_04_07.tif\n",
      "..\\Bases\\Bug\\bug2017_stainnorm_validation_1000px\\ilu_74234\\ilu_74234_04_08.tif\n",
      "..\\Bases\\Bug\\bug2017_stainnorm_validation_1000px\\ilu_74234\\ilu_74234_04_09.tif\n",
      "..\\Bases\\Bug\\bug2017_stainnorm_validation_1000px\\ilu_74234\\ilu_74234_05_01.tif\n",
      "..\\Bases\\Bug\\bug2017_stainnorm_validation_1000px\\ilu_74234\\ilu_74234_05_02.tif\n",
      "..\\Bases\\Bug\\bug2017_stainnorm_validation_1000px\\ilu_74234\\ilu_74234_05_04.tif\n",
      "..\\Bases\\Bug\\bug2017_stainnorm_validation_1000px\\ilu_74234\\ilu_74234_05_05.tif\n",
      "..\\Bases\\Bug\\bug2017_stainnorm_validation_1000px\\ilu_74234\\ilu_74234_05_06.tif\n",
      "..\\Bases\\Bug\\bug2017_stainnorm_validation_1000px\\ilu_74234\\ilu_74234_05_07.tif\n",
      "..\\Bases\\Bug\\bug2017_stainnorm_validation_1000px\\ilu_74234\\ilu_74234_05_08.tif\n",
      "..\\Bases\\Bug\\bug2017_stainnorm_validation_1000px\\ilu_74234\\ilu_74234_05_09.tif\n",
      "..\\Bases\\Bug\\bug2017_stainnorm_validation_1000px\\ilu_74235\\ilu_74235_01_01.tif\n",
      "..\\Bases\\Bug\\bug2017_stainnorm_validation_1000px\\ilu_74235\\ilu_74235_01_02.tif\n",
      "..\\Bases\\Bug\\bug2017_stainnorm_validation_1000px\\ilu_74235\\ilu_74235_01_04.tif\n",
      "..\\Bases\\Bug\\bug2017_stainnorm_validation_1000px\\ilu_74235\\ilu_74235_01_05.tif\n",
      "..\\Bases\\Bug\\bug2017_stainnorm_validation_1000px\\ilu_74235\\ilu_74235_01_06.tif\n",
      "..\\Bases\\Bug\\bug2017_stainnorm_validation_1000px\\ilu_74235\\ilu_74235_01_07.tif\n",
      "..\\Bases\\Bug\\bug2017_stainnorm_validation_1000px\\ilu_74235\\ilu_74235_01_08.tif\n",
      "..\\Bases\\Bug\\bug2017_stainnorm_validation_1000px\\ilu_74235\\ilu_74235_01_09.tif\n",
      "..\\Bases\\Bug\\bug2017_stainnorm_validation_1000px\\ilu_74235\\ilu_74235_02_01.tif\n",
      "..\\Bases\\Bug\\bug2017_stainnorm_validation_1000px\\ilu_74235\\ilu_74235_02_02.tif\n",
      "..\\Bases\\Bug\\bug2017_stainnorm_validation_1000px\\ilu_74235\\ilu_74235_02_04.tif\n",
      "..\\Bases\\Bug\\bug2017_stainnorm_validation_1000px\\ilu_74235\\ilu_74235_02_05.tif\n",
      "..\\Bases\\Bug\\bug2017_stainnorm_validation_1000px\\ilu_74235\\ilu_74235_02_06.tif\n",
      "..\\Bases\\Bug\\bug2017_stainnorm_validation_1000px\\ilu_74235\\ilu_74235_02_07.tif\n",
      "..\\Bases\\Bug\\bug2017_stainnorm_validation_1000px\\ilu_74235\\ilu_74235_02_08.tif\n",
      "..\\Bases\\Bug\\bug2017_stainnorm_validation_1000px\\ilu_74235\\ilu_74235_02_09.tif\n",
      "..\\Bases\\Bug\\bug2017_stainnorm_validation_1000px\\ilu_74235\\ilu_74235_03_01.tif\n",
      "..\\Bases\\Bug\\bug2017_stainnorm_validation_1000px\\ilu_74235\\ilu_74235_03_02.tif\n",
      "..\\Bases\\Bug\\bug2017_stainnorm_validation_1000px\\ilu_74235\\ilu_74235_03_04.tif\n",
      "..\\Bases\\Bug\\bug2017_stainnorm_validation_1000px\\ilu_74235\\ilu_74235_03_05.tif\n",
      "..\\Bases\\Bug\\bug2017_stainnorm_validation_1000px\\ilu_74235\\ilu_74235_03_06.tif\n",
      "..\\Bases\\Bug\\bug2017_stainnorm_validation_1000px\\ilu_74235\\ilu_74235_03_07.tif\n",
      "..\\Bases\\Bug\\bug2017_stainnorm_validation_1000px\\ilu_74235\\ilu_74235_03_08.tif\n",
      "..\\Bases\\Bug\\bug2017_stainnorm_validation_1000px\\ilu_74235\\ilu_74235_03_09.tif\n",
      "..\\Bases\\Bug\\bug2017_stainnorm_validation_1000px\\ilu_74235\\ilu_74235_04_01.tif\n",
      "..\\Bases\\Bug\\bug2017_stainnorm_validation_1000px\\ilu_74235\\ilu_74235_04_02.tif\n",
      "..\\Bases\\Bug\\bug2017_stainnorm_validation_1000px\\ilu_74235\\ilu_74235_04_04.tif\n",
      "..\\Bases\\Bug\\bug2017_stainnorm_validation_1000px\\ilu_74235\\ilu_74235_04_05.tif\n",
      "..\\Bases\\Bug\\bug2017_stainnorm_validation_1000px\\ilu_74235\\ilu_74235_04_06.tif\n",
      "..\\Bases\\Bug\\bug2017_stainnorm_validation_1000px\\ilu_74235\\ilu_74235_04_07.tif\n",
      "..\\Bases\\Bug\\bug2017_stainnorm_validation_1000px\\ilu_74235\\ilu_74235_04_08.tif\n",
      "..\\Bases\\Bug\\bug2017_stainnorm_validation_1000px\\ilu_74235\\ilu_74235_04_09.tif\n",
      "..\\Bases\\Bug\\bug2017_stainnorm_validation_1000px\\ilu_74235\\ilu_74235_05_01.tif\n",
      "..\\Bases\\Bug\\bug2017_stainnorm_validation_1000px\\ilu_74235\\ilu_74235_05_02.tif\n",
      "..\\Bases\\Bug\\bug2017_stainnorm_validation_1000px\\ilu_74235\\ilu_74235_05_04.tif\n",
      "..\\Bases\\Bug\\bug2017_stainnorm_validation_1000px\\ilu_74235\\ilu_74235_05_05.tif\n",
      "..\\Bases\\Bug\\bug2017_stainnorm_validation_1000px\\ilu_74235\\ilu_74235_05_06.tif\n",
      "..\\Bases\\Bug\\bug2017_stainnorm_validation_1000px\\ilu_74235\\ilu_74235_05_07.tif\n",
      "..\\Bases\\Bug\\bug2017_stainnorm_validation_1000px\\ilu_74235\\ilu_74235_05_08.tif\n",
      "..\\Bases\\Bug\\bug2017_stainnorm_validation_1000px\\ilu_74235\\ilu_74235_05_09.tif\n",
      "200 200\n"
     ]
    }
   ],
   "source": [
    "targets, sources = BUG(\"..\\\\Bases\\\\Bug\")\n",
    "for source in sources:\n",
    "    print(source)\n",
    "print(len(sources), len(targets))"
   ]
  },
  {
   "cell_type": "raw",
   "id": "6bd0a159-3608-4d87-9e77-5183885994e4",
   "metadata": {},
   "source": []
  },
  {
   "cell_type": "code",
   "execution_count": null,
   "id": "4f8d922e-c147-42c0-baa7-35ca24b56408",
   "metadata": {},
   "outputs": [],
   "source": []
  },
  {
   "cell_type": "code",
   "execution_count": 62,
   "id": "b8a8e613-6157-4a83-af0e-897dffb8b8b7",
   "metadata": {
    "tags": []
   },
   "outputs": [],
   "source": [
    "def displasia(dir):\n",
    "    sources = []\n",
    "    for currentdir, subdirs, files in os.walk(dir):\n",
    "        sources.extend([os.path.join(currentdir, file) for file in files])\n",
    "    return sources"
   ]
  },
  {
   "cell_type": "code",
   "execution_count": 65,
   "id": "e9abb400-46b4-4ac9-b286-89842424660e",
   "metadata": {},
   "outputs": [
    {
     "data": {
      "text/plain": [
       "296"
      ]
     },
     "execution_count": 65,
     "metadata": {},
     "output_type": "execute_result"
    }
   ],
   "source": [
    "sources = displasia(\"../Bases/Displasia\")\n",
    "len(sources)"
   ]
  },
  {
   "cell_type": "code",
   "execution_count": 50,
   "id": "c4dfbe8f-30a0-4df9-b09c-cff5ed0411e0",
   "metadata": {},
   "outputs": [],
   "source": [
    "def BREAKHIST(dir, magnification):\n",
    "    sources = []\n",
    "    magnification = str(magnification) + \"X\"\n",
    "    for currentdir, subdirs, files in os.walk(dir):\n",
    "        if currentdir.endswith(magnification):\n",
    "            sources.extend([os.path.join(currentdir, file) for file in files])\n",
    "    return sources"
   ]
  },
  {
   "cell_type": "code",
   "execution_count": 51,
   "id": "60c3f0fa-06b0-47c6-8a90-8416eb8101f4",
   "metadata": {
    "tags": []
   },
   "outputs": [
    {
     "data": {
      "text/plain": [
       "1995"
      ]
     },
     "execution_count": 51,
     "metadata": {},
     "output_type": "execute_result"
    }
   ],
   "source": [
    "magnification = 40\n",
    "sources = BREAKHIST(\"../Bases/BreaKHis_v1\", 40)\n",
    "len(sources)"
   ]
  },
  {
   "cell_type": "code",
   "execution_count": null,
   "id": "545ee536-7fad-4984-b291-d1ef7781b618",
   "metadata": {},
   "outputs": [],
   "source": []
  }
 ],
 "metadata": {
  "kernelspec": {
   "display_name": "Python 3 (ipykernel)",
   "language": "python",
   "name": "python3"
  },
  "language_info": {
   "codemirror_mode": {
    "name": "ipython",
    "version": 3
   },
   "file_extension": ".py",
   "mimetype": "text/x-python",
   "name": "python",
   "nbconvert_exporter": "python",
   "pygments_lexer": "ipython3",
   "version": "3.11.5"
  }
 },
 "nbformat": 4,
 "nbformat_minor": 5
}
