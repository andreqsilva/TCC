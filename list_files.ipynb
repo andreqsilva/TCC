{
 "cells": [
  {
   "cell_type": "code",
   "execution_count": 1,
   "id": "909eef0b-de82-43c7-bbe0-7027f4099fc5",
   "metadata": {
    "tags": []
   },
   "outputs": [],
   "source": [
    "import os\n",
    "import numpy as np\n",
    "import cv2\n",
    "import time"
   ]
  },
  {
   "cell_type": "code",
   "execution_count": 7,
   "id": "0daaba4e-425b-4529-b125-c68634f75466",
   "metadata": {
    "tags": []
   },
   "outputs": [
    {
     "data": {
      "text/plain": [
       "'\\nfor target, sources in database.items():\\n    for source in sources:\\n        print(target, source)\\n    print()\\n'"
      ]
     },
     "execution_count": 7,
     "metadata": {},
     "output_type": "execute_result"
    }
   ],
   "source": [
    "def concentration_variation(dir):    \n",
    "    # imagens originais\n",
    "    files = os.listdir(dir)\n",
    "    sources = []\n",
    "    for file in files:\n",
    "        if not os.path.isdir(os.path.join(dir, file)):\n",
    "            sources.append(file)\n",
    "    \n",
    "    # imagens de referência\n",
    "    target_dir = os.path.join(dir, \"refs\")\n",
    "    files = os.listdir(target_dir)\n",
    "    targets = [file for file in files]\n",
    "\n",
    "    database = {}\n",
    "    for target in targets:\n",
    "        target_prefix = \"_\".join(target.split(\"_\")[:-1])\n",
    "        match = [source for source in sources if source.startswith(target_prefix)]\n",
    "        database[os.path.join(target_dir, target)] = [os.path.join(dir, m) for m in match]\n",
    "    \n",
    "    '''\n",
    "    for target, source in database.items():\n",
    "        print(target, source)\n",
    "    '''\n",
    "    \n",
    "    return database\n",
    "\n",
    "dir = '..\\\\Bases\\\\Concentration variation'\n",
    "database = concentration_variation(dir)\n",
    "\n",
    "'''\n",
    "for target, sources in database.items():\n",
    "    for source in sources:\n",
    "        print(target, source)\n",
    "    print()\n",
    "'''"
   ]
  },
  {
   "cell_type": "code",
   "execution_count": 4,
   "id": "b061896a-0fd2-422d-9835-b9f1d5982162",
   "metadata": {
    "tags": []
   },
   "outputs": [
    {
     "data": {
      "text/plain": [
       "'\\nfor target, source in database.items():\\n    print(target, source)\\n'"
      ]
     },
     "execution_count": 4,
     "metadata": {},
     "output_type": "execute_result"
    }
   ],
   "source": [
    "def scanners_variation(dir):\n",
    "    cuts = ['corte 16.1', 'corte 16.4', 'corte 32.5']\n",
    "    database = {}\n",
    "    for cut in cuts:\n",
    "        cut_dir = os.path.join(dir, cut)\n",
    "        files = os.listdir(cut_dir)\n",
    "        for file in files:\n",
    "            file_dir = os.path.join(cut_dir, file)\n",
    "            if os.path.isdir(file_dir):\n",
    "                images = os.listdir(file_dir)\n",
    "                if file == 'original':\n",
    "                    targets = [os.path.join(file_dir, image) for image in images]\n",
    "                else:\n",
    "                    sources = [os.path.join(file_dir, image) for image in images]\n",
    "        \n",
    "        for target, source in zip(targets, sources):\n",
    "            database[target] = source\n",
    "        \n",
    "    return database\n",
    "    \n",
    "database = scanners_variation(\".\\\\Bases\\\\Scanners variation\")\n",
    "\n",
    "'''\n",
    "for target, source in database.items():\n",
    "    print(target, source)\n",
    "'''"
   ]
  },
  {
   "cell_type": "code",
   "execution_count": null,
   "id": "5b2f58a5-a419-4367-addb-33584aab444f",
   "metadata": {
    "tags": []
   },
   "outputs": [],
   "source": []
  },
  {
   "cell_type": "code",
   "execution_count": 75,
   "id": "e4b5b3fc-8ec3-48e8-b78f-54900a8b2daf",
   "metadata": {
    "tags": []
   },
   "outputs": [
    {
     "name": "stdout",
     "output_type": "stream",
     "text": [
      "<generator object _walk at 0x000001E0B7B94A50>\n"
     ]
    }
   ],
   "source": [
    "search = os.walk(\"../Bases/MITOS\")\n",
    "print(search)"
   ]
  },
  {
   "cell_type": "code",
   "execution_count": 82,
   "id": "a74477b6-0b8a-496f-980f-6d234250e353",
   "metadata": {
    "tags": []
   },
   "outputs": [],
   "source": [
    "def MITOS(dir):\n",
    "    for currentdir, subdirs, files in os.walk(dir):\n",
    "        if currentdir.endswith(\"Aperio\"):\n",
    "            targets = [os.path.join(currentdir, file) for file in files if file.startswith(\"A\")]\n",
    "        elif currentdir.endswith(\"Hamamatsu\"):\n",
    "            sources = [os.path.join(currentdir, file) for file in files if file.startswith(\"H\")]\n",
    "    return targets, sources        "
   ]
  },
  {
   "cell_type": "code",
   "execution_count": 84,
   "id": "23374a0c-46cc-4338-bc6d-4dcab2fc1d5a",
   "metadata": {
    "tags": []
   },
   "outputs": [
    {
     "name": "stdout",
     "output_type": "stream",
     "text": [
      "3200 3200\n"
     ]
    }
   ],
   "source": [
    "targets, sources = MITOS(\"../Bases/MITOS\")\n",
    "print(len(targets), len(sources))"
   ]
  },
  {
   "cell_type": "code",
   "execution_count": 16,
   "id": "3585f90c-770b-494d-8ee8-0082d00333db",
   "metadata": {
    "tags": []
   },
   "outputs": [
    {
     "name": "stdout",
     "output_type": "stream",
     "text": [
      "Database: MITOS\t Magnification: 40px\t Scheme: KL\t Total images: 3200\n",
      "\n",
      "Image\t Filename\t Completed\t Estimated (min)\n"
     ]
    },
    {
     "data": {
      "text/plain": [
       "'\\nfor index, (target_path, source_path) in enumerate(zip(targets, sources), start=1):\\n\\n    target_filename = target_path[(target_path.rfind(\"\\\\\") + 1):]\\n    completed = round((index/len(targets)) * 100, 2)\\n    \\n    tempo_decorrido = time.time() - start\\n    tempo_estimado_total = (tempo_decorrido / completed) * len(targets) - tempo_decorrido\\n    tempo_estimado_minutos = tempo_estimado_total / 60  # Converter para minutos\\n        \\n    str_minutos, str_segundos = str(tempo_estimado_minutos).split(\\'.\\')\\n    minutos = int(str_minutos)\\n    segundos = float(str_minutos)\\n    segundos = int(segundos * 60)\\n        \\n    print(f\"{index}\\t {target_filename}\\t {completed}%\\t\\t {minutos}:{segundos}\")\\n    \\nprint(len(targets), len(sources))'"
      ]
     },
     "execution_count": 16,
     "metadata": {},
     "output_type": "execute_result"
    }
   ],
   "source": [
    "targets, sources = MITOS(\"..\\\\bases\\\\MITOS\")\n",
    "print(f\"Database: MITOS\\t Magnification: 40px\\t Scheme: KL\\t Total images: {len(targets)}\\n\")\n",
    "print(f\"Image\\t Filename\\t Completed\\t Estimated (min)\")\n",
    "start = time.time()\n",
    "'''\n",
    "for index, (target_path, source_path) in enumerate(zip(targets, sources), start=1):\n",
    "\n",
    "    target_filename = target_path[(target_path.rfind(\"\\\\\") + 1):]\n",
    "    completed = round((index/len(targets)) * 100, 2)\n",
    "    \n",
    "    tempo_decorrido = time.time() - start\n",
    "    tempo_estimado_total = (tempo_decorrido / completed) * len(targets) - tempo_decorrido\n",
    "    tempo_estimado_minutos = tempo_estimado_total / 60  # Converter para minutos\n",
    "        \n",
    "    str_minutos, str_segundos = str(tempo_estimado_minutos).split('.')\n",
    "    minutos = int(str_minutos)\n",
    "    segundos = float(str_minutos)\n",
    "    segundos = int(segundos * 60)\n",
    "        \n",
    "    print(f\"{index}\\t {target_filename}\\t {completed}%\\t\\t {minutos}:{segundos}\")\n",
    "    \n",
    "print(len(targets), len(sources))'''"
   ]
  },
  {
   "cell_type": "code",
   "execution_count": 2,
   "id": "943843ce-6373-4bb3-87b8-0efc67948cd3",
   "metadata": {
    "tags": []
   },
   "outputs": [],
   "source": [
    "def bug(dir):\n",
    "    subdirs_path = os.path.join(dir, \"bug2017_stainnorm_validation_1000px\")\n",
    "    subdirs = os.listdir(subdirs_path)\n",
    "    database = {}\n",
    "    targets = []\n",
    "    sources = []\n",
    "    for subdir in subdirs:\n",
    "        image_path = os.path.join(subdirs_path, subdir)\n",
    "        files = os.listdir(image_path)\n",
    "        targets.extend(os.path.join(image_path, files[2]) for i in range(len(files) - 1))\n",
    "        del files[2]\n",
    "        sources.extend([os.path.join(image_path, file) for file in files.copy()])\n",
    "    return targets, sources        "
   ]
  },
  {
   "cell_type": "code",
   "execution_count": 4,
   "id": "7e3e2820-65aa-41eb-a1c3-10f65338c4ce",
   "metadata": {
    "tags": []
   },
   "outputs": [],
   "source": [
    "def BUG(dir):\n",
    "    targets = []\n",
    "    sources = []\n",
    "    for currentdir, subdirs, files in os.walk(dir):\n",
    "        nfiles = len(files)\n",
    "        if nfiles != 0:\n",
    "            for file in files:\n",
    "                if file.endswith(\"03.tif\"):\n",
    "                    repeated_files = [os.path.join(currentdir, file)] * 8\n",
    "                    targets.extend(repeated_files)\n",
    "                else:\n",
    "                    sources.append(os.path.join(currentdir, file))\n",
    "    return targets, sources"
   ]
  },
  {
   "cell_type": "code",
   "execution_count": 5,
   "id": "5cbb2d19-4688-4f5a-97d8-3b800f30c393",
   "metadata": {},
   "outputs": [
    {
     "name": "stdout",
     "output_type": "stream",
     "text": [
      "200 200\n"
     ]
    }
   ],
   "source": [
    "targets, sources = BUG(\"..\\\\Bases\\\\Bug\")\n",
    "#for source in sources:\n",
    "#    print(source)\n",
    "print(len(sources), len(targets))"
   ]
  },
  {
   "cell_type": "raw",
   "id": "6bd0a159-3608-4d87-9e77-5183885994e4",
   "metadata": {},
   "source": []
  },
  {
   "cell_type": "code",
   "execution_count": null,
   "id": "4f8d922e-c147-42c0-baa7-35ca24b56408",
   "metadata": {},
   "outputs": [],
   "source": []
  },
  {
   "cell_type": "code",
   "execution_count": 9,
   "id": "b8a8e613-6157-4a83-af0e-897dffb8b8b7",
   "metadata": {
    "tags": []
   },
   "outputs": [],
   "source": [
    "def displasia(target, dir):\n",
    "    sources = []\n",
    "    for currentdir, subdirs, files in os.walk(dir):\n",
    "        sources.extend([os.path.join(currentdir, file) for file in files])\n",
    "    targets = [target] * len(sources)\n",
    "    return targets, sources"
   ]
  },
  {
   "cell_type": "code",
   "execution_count": 43,
   "id": "e9abb400-46b4-4ac9-b286-89842424660e",
   "metadata": {},
   "outputs": [
    {
     "data": {
      "text/plain": [
       "'../Bases/Displasia\\\\ROIs_no_pre_processing\\\\healthy\\\\image003-2-roi1.tif'"
      ]
     },
     "execution_count": 43,
     "metadata": {},
     "output_type": "execute_result"
    }
   ],
   "source": [
    "targets, sources = displasia(\"../Bases/Reference images/DCIS (139).tif\", \"../Bases/Displasia\")\n",
    "sources[0]"
   ]
  },
  {
   "cell_type": "code",
   "execution_count": 27,
   "id": "c4dfbe8f-30a0-4df9-b09c-cff5ed0411e0",
   "metadata": {},
   "outputs": [],
   "source": [
    "def BREAKHIST(dir, magnification, target):\n",
    "    sources = []\n",
    "    magnification = str(magnification) + \"X\"\n",
    "    for currentdir, subdirs, files in os.walk(dir):\n",
    "        if currentdir.endswith(magnification):\n",
    "            sources.extend([os.path.join(currentdir, file) for file in files])\n",
    "    targets = [target] * len(sources)\n",
    "    return targets, sources"
   ]
  },
  {
   "cell_type": "code",
   "execution_count": 44,
   "id": "60c3f0fa-06b0-47c6-8a90-8416eb8101f4",
   "metadata": {
    "tags": []
   },
   "outputs": [
    {
     "data": {
      "text/plain": [
       "1995"
      ]
     },
     "execution_count": 44,
     "metadata": {},
     "output_type": "execute_result"
    }
   ],
   "source": [
    "magnification = 40\n",
    "targets, sources = BREAKHIST(\"../Bases/BreaKHis_v1\", magnification, \"../Bases/Reference images/DCIS (139).tif\")\n",
    "len(targets)"
   ]
  },
  {
   "cell_type": "code",
   "execution_count": 45,
   "id": "545ee536-7fad-4984-b291-d1ef7781b618",
   "metadata": {},
   "outputs": [],
   "source": [
    "def UNITOPATHO(dir, target):\n",
    "    sources = []\n",
    "    for currentdir, subdir, files in os.walk(dir):\n",
    "        sources.extend([os.path.join(currentdir, file) for file in files])\n",
    "    targets = [target] * len(sources)\n",
    "    return targets, sources"
   ]
  },
  {
   "cell_type": "code",
   "execution_count": 46,
   "id": "f475db36-5721-4ca8-908d-0edd8e3c0094",
   "metadata": {
    "tags": []
   },
   "outputs": [
    {
     "name": "stdout",
     "output_type": "stream",
     "text": [
      "8669 8669\n"
     ]
    }
   ],
   "source": [
    "targets, sources = UNITOPATHO(\"../Bases/UNITOPATHO\", \"../Bases/Reference images/DCIS (139).tif\")\n",
    "print(len(targets), len(sources))"
   ]
  },
  {
   "cell_type": "code",
   "execution_count": 8,
   "id": "af3ac57a-f796-4d85-9343-712e7c3760d8",
   "metadata": {},
   "outputs": [
    {
     "name": "stdout",
     "output_type": "stream",
     "text": [
      "[ 288 1159  190   97  938 2415 1514  196  361 1077 2640 3162 2313 1713\n",
      " 2377 3158 2814  940  534 1276 1701 2926 1783 1520  155 2831 1853 2675\n",
      " 2826  332  505 1287 3097 2785  691 2993 2731  850 1223 1999 3113 2081\n",
      "  860  384 1237 1352  567 1970  533 1670 1967 1545  711  247 1004  141\n",
      "  493  917 2185 2391 1598 3038 2744  744  254 1601 1179 3033 1418 2883\n",
      "  735 1554  170 2922 2217  668 1126 3123  192 2048  824 2870 1743 2632\n",
      " 2603  743  284  156  666  467 2232 2381 1612 3070 1194 1561  771   61\n",
      " 1441  272 1049  699  429 2925  397 2605 3084  491 1058 1840 2068 1827\n",
      "  157 1155 3090  348 1716  337 2477 3064 1305  381 2270  147 2017  623\n",
      " 1742 2168 1342 2427  201  789 2921  767  296 1357  218  737  812  372\n",
      " 1980 2072 1922  815 1571 2651 3127  749  654  106  269 1940 1671  855\n",
      "  451 2308 1104 1590  418 1535  832 1293  984 2245 1290  741  987 1820\n",
      "  816 3081 2110 2316 1143 2990 3160 2056  241 2123 3106  934  366 2986\n",
      " 3066 2867  249 1838 2800 1836 2612 2970  318 1386 3136 2650 2668 2203\n",
      "  979  382 2369 2845 1002  484  178 1446 2131 2783  558  762 1017  370\n",
      " 2813  687 1508 2406 1304  246 2321 2470  670 1089 1420   81 1353  769\n",
      "  915  918 2739   33  300 2683 3197 1038  784  843 2581 2195 1163  636\n",
      " 1153 2614  943 1471   69  593 2885 2951 2396 2671  322 1957 1947 1430\n",
      " 2701 1203 1097  512 1470  140 2621 1828 2033 2289 1617 3087 2402 2860\n",
      " 2018 2073 1164 1257  177  958 2385 1966 3034 3049  867  807 2624  454\n",
      " 1795  973  248   50 1982  882 2962  865 2795  663  565 1406 2803 1187\n",
      "  640 1459 2088 1543 3048 1896 2770 2032  539 1709 2000 2013 1028 1883\n",
      "  477 2376 2523 2219 1655 2530 1585 1011 2572 1091 1924  796 1794 2597\n",
      "  347 2694 2784  213  497 1366 1247 2538 1507 1457   99 2304 2729 2673\n",
      " 1090 1898  118 3156  825 1078 1772 1746 3166 1437 1393 2084 2652 1278\n",
      " 1381 2768  773 2094 3104 3170 2237 1294 1941  573  988 2591 1052 2497\n",
      " 2398 2843 2950  782 2136 2267  464  494 1114 2448   83 1615  297 2760\n",
      "  897 1564  411  211 1604 1841 2703  203 2139 3110  818 3051 1480 1904\n",
      " 2909 3111 2354  775  478  638  425  919]\n"
     ]
    }
   ],
   "source": [
    "dir = './out/MITOS/index.txt'\n",
    "index = np.loadtxt(dir, dtype=int)\n",
    "print(index)"
   ]
  },
  {
   "cell_type": "code",
   "execution_count": null,
   "id": "7df970b4-0b64-496f-9fba-2c13e6334885",
   "metadata": {},
   "outputs": [],
   "source": []
  }
 ],
 "metadata": {
  "kernelspec": {
   "display_name": "Python 3 (ipykernel)",
   "language": "python",
   "name": "python3"
  },
  "language_info": {
   "codemirror_mode": {
    "name": "ipython",
    "version": 3
   },
   "file_extension": ".py",
   "mimetype": "text/x-python",
   "name": "python",
   "nbconvert_exporter": "python",
   "pygments_lexer": "ipython3",
   "version": "3.11.5"
  }
 },
 "nbformat": 4,
 "nbformat_minor": 5
}
