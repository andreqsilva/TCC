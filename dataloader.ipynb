{
 "cells": [
  {
   "cell_type": "code",
   "execution_count": 4,
   "id": "53ebd7e8-e2e1-4c81-bf47-639f7112ebdf",
   "metadata": {
    "tags": []
   },
   "outputs": [],
   "source": [
    "import torch\n",
    "import torchvision\n",
    "import numpy as np\n",
    "import cv2\n",
    "import os"
   ]
  },
  {
   "cell_type": "code",
   "execution_count": 5,
   "id": "622e9637-9481-4671-a632-fd31517fa350",
   "metadata": {
    "tags": []
   },
   "outputs": [],
   "source": [
    "class UNITOPatho(torch.utils.data.Dataset):\n",
    "\n",
    "    def __init__(self, df, T, path, target, subsample=-1, gray=False, mock=False):\n",
    "        self.path = path\n",
    "        self.df = df\n",
    "        self.T = T\n",
    "        self.target = target\n",
    "        self.subsample = subsample\n",
    "        self.mock = mock\n",
    "        self.gray = gray\n",
    "\n",
    "        allowed_target = ['type', 'grade', 'top_label']\n",
    "\n",
    "        if target not in allowed_target:\n",
    "            print(f'Target must be in {allowed_target}, got {target}')\n",
    "            exit(1)\n",
    "\n",
    "        print(f'Loaded {len(self.df)} images')\n",
    " \n",
    "\n",
    "    def __len__(self):\n",
    "        return len(self.df)\n",
    "\n",
    "    def __getitem__(self, index):\n",
    "        entry = self.df.iloc[index]\n",
    "        image_id = entry.image_id\n",
    "        image_id = os.path.join(self.path, entry.top_label_name, image_id)\n",
    "        img = None\n",
    "\n",
    "        if self.mock:\n",
    "            C = 1 if self.gray else 3\n",
    "            img = np.random.randint(0, 255, (224, 224, C)).astype(np.uint8)\n",
    "        else:\n",
    "            img = cv2.imread(image_id)\n",
    "            if self.subsample != -1:\n",
    "                w = img.shape[0]\n",
    "                while w//2 > self.subsample:\n",
    "                    img = cv2.resize(img, (w//2, w//2))\n",
    "                    w = w//2\n",
    "                img = cv2.resize(img, (self.subsample, self.subsample))\n",
    "\n",
    "            if self.gray:\n",
    "                img = cv2.cvtColor(img, cv2.COLOR_BGR2GRAY)\n",
    "                img = np.expand_dims(img, axis=2)\n",
    "            else:\n",
    "                img = cv2.cvtColor(img, cv2.COLOR_BGR2RGB)\n",
    "            \n",
    "            if self.T is not None:\n",
    "                img = self.T(img)\n",
    "        \n",
    "        return img, entry[self.target]"
   ]
  },
  {
   "cell_type": "code",
   "execution_count": null,
   "id": "2af73286-e18e-4884-aff0-11f242581356",
   "metadata": {},
   "outputs": [],
   "source": []
  }
 ],
 "metadata": {
  "kernelspec": {
   "display_name": "Python 3 (ipykernel)",
   "language": "python",
   "name": "python3"
  },
  "language_info": {
   "codemirror_mode": {
    "name": "ipython",
    "version": 3
   },
   "file_extension": ".py",
   "mimetype": "text/x-python",
   "name": "python",
   "nbconvert_exporter": "python",
   "pygments_lexer": "ipython3",
   "version": "3.11.5"
  }
 },
 "nbformat": 4,
 "nbformat_minor": 5
}
