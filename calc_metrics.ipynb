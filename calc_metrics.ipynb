{
 "cells": [
  {
   "cell_type": "code",
   "execution_count": 1,
   "id": "1aa54436-b8be-4ae1-b43e-171f72ff515a",
   "metadata": {
    "tags": []
   },
   "outputs": [],
   "source": [
    "import os\n",
    "import numpy as np"
   ]
  },
  {
   "cell_type": "code",
   "execution_count": 2,
   "id": "df8c0060-67b2-41aa-89c1-1a45c183ba00",
   "metadata": {
    "tags": []
   },
   "outputs": [],
   "source": [
    "def average_metrics(database, scheme):\n",
    "    metrics_path = f\"./out/{database}/{scheme}/metrics/\"\n",
    "    scores = {}\n",
    "    for metric in ['fsim', 'psnr', 'qssim', 'ssim']:\n",
    "        with open(os.path.join(metrics_path, metric) + \".txt\", 'r') as file:\n",
    "            values = []\n",
    "            for line in file:\n",
    "                values.append(float(line.strip()))\n",
    "            if len(values) == 0:\n",
    "                scores[metric] = 0\n",
    "            else:\n",
    "                scores[metric] = np.array(values).mean()\n",
    "    return scores"
   ]
  },
  {
   "cell_type": "code",
   "execution_count": 3,
   "id": "0bcb4627-66d1-4ebe-91ef-f23654c637f0",
   "metadata": {
    "tags": []
   },
   "outputs": [
    {
     "name": "stdout",
     "output_type": "stream",
     "text": [
      "BreaKHis_v1 [ED]\n",
      "\n",
      "fsim:\t0.7720\n",
      "psnr:\t46.1048\n",
      "qssim:\t0.8240\n",
      "ssim:\t0.9870\n"
     ]
    }
   ],
   "source": [
    "database = \"BreaKHis_v1\"\n",
    "metric = \"ED\"\n",
    "scores = average_metrics(database, metric)\n",
    "\n",
    "print(f\"{database} [{metric}]\\n\")\n",
    "for metric, average in scores.items():\n",
    "    print(f\"{metric}:\\t{average:.4f}\")"
   ]
  },
  {
   "cell_type": "code",
   "execution_count": null,
   "id": "99e0166a-251c-465a-9df8-7bba33f6dedc",
   "metadata": {
    "tags": []
   },
   "outputs": [],
   "source": []
  },
  {
   "cell_type": "code",
   "execution_count": null,
   "id": "cf432808-2e87-4698-bdcf-39452f8e1786",
   "metadata": {},
   "outputs": [],
   "source": []
  }
 ],
 "metadata": {
  "kernelspec": {
   "display_name": "Python 3 (ipykernel)",
   "language": "python",
   "name": "python3"
  },
  "language_info": {
   "codemirror_mode": {
    "name": "ipython",
    "version": 3
   },
   "file_extension": ".py",
   "mimetype": "text/x-python",
   "name": "python",
   "nbconvert_exporter": "python",
   "pygments_lexer": "ipython3",
   "version": "3.11.5"
  }
 },
 "nbformat": 4,
 "nbformat_minor": 5
}
