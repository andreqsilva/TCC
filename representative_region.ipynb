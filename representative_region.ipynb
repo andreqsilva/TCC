{
 "cells": [
  {
   "cell_type": "code",
   "execution_count": 11,
   "id": "b418f362-9181-4fe0-ad86-edeefbfadb74",
   "metadata": {
    "tags": []
   },
   "outputs": [],
   "source": [
    "import numpy as np\n",
    "import matplotlib.pyplot as plt\n",
    "import cv2\n",
    "import math"
   ]
  },
  {
   "cell_type": "code",
   "execution_count": 6,
   "id": "5fb69f28-b7a3-437c-b7af-b9f1fe53fb66",
   "metadata": {
    "tags": []
   },
   "outputs": [],
   "source": [
    "def load_image(path):\n",
    "    image = cv2.imread(path)\n",
    "    if image is None:\n",
    "        raise FileNotFoundError(f\"Erro ao carregar a imagem em {path}.\")\n",
    "    return np.array(image)\n",
    "\n",
    "def show_image(image, image_name):\n",
    "    cv2.imshow(image_name, image)\n",
    "    cv2.waitKey(0)"
   ]
  },
  {
   "cell_type": "code",
   "execution_count": 2,
   "id": "ca848753-525f-4437-aaf2-c1b9f2135aab",
   "metadata": {
    "tags": []
   },
   "outputs": [],
   "source": [
    "def shannon_entropy(image):\n",
    "    grayscale_image = cv2.cvtColor(image, cv2.COLOR_BGR2GRAY)    \n",
    "    histogram = cv2.calcHist([grayscale_image], [0], None, [256], [0, 256])\n",
    "    occurrence_porcent = histogram / np.sum(histogram) # número de pixels\n",
    "    occurrence_porcent = occurrence_porcent[occurrence_porcent != 0] # evitar log(0)\n",
    "    SE = -np.sum(occurrence_porcent * np.log2(occurrence_porcent))\n",
    "    return SE"
   ]
  },
  {
   "cell_type": "code",
   "execution_count": 47,
   "id": "20978675-e4c4-4360-92d2-4f4b9be9b523",
   "metadata": {
    "tags": []
   },
   "outputs": [],
   "source": [
    "def get_best_region(image, rows, columns, grid_size):\n",
    "    highest_entropy = 0\n",
    "    for r in range(0, rows, grid_size[0]):\n",
    "        r_end = r + grid_size[0]\n",
    "        if r_end > rows:\n",
    "            continue # ignora as regiões menores\n",
    "        for c in range(0,  columns, grid_size[1]):\n",
    "            c_end = c + grid_size[1]\n",
    "            if c_end > columns:\n",
    "                continue\n",
    "            grid = image[r:r_end, c:c_end]\n",
    "            SE = shannon_entropy(grid)\n",
    "            if SE > highest_entropy:\n",
    "                highest_entropy = SE\n",
    "                selected_region = grid\n",
    "                \n",
    "    return selected_region, highest_entropy"
   ]
  },
  {
   "cell_type": "code",
   "execution_count": 43,
   "id": "661cdda6-d974-4dfd-a797-540bf58239ca",
   "metadata": {
    "tags": []
   },
   "outputs": [],
   "source": [
    "def grid_parameters(rows, columns, magnification):\n",
    "    lowest_dimension = min(rows, columns)\n",
    "    Q = [(magnification / lowest_dimension * 100) * (rows / 100),\n",
    "         (magnification / lowest_dimension * 100) * (columns / 100)]\n",
    "    return math.floor(Q[0]), math.floor(Q[1])"
   ]
  },
  {
   "cell_type": "code",
   "execution_count": 34,
   "id": "f540beb4-1c3b-4d39-a73c-7799820d5d52",
   "metadata": {
    "tags": []
   },
   "outputs": [],
   "source": [
    "def select_representative_region(image, rows, columns, magnification):\n",
    "    grid_row, grid_column = grid_parameters(rows, columns, magnification)\n",
    "    quadrant_size = (grid_row, grid_column)\n",
    "    selected_region, highest_entropy = get_best_region(image, rows, columns, quadrant_size)\n",
    "\n",
    "    '''# plotar região seleciona com seu histograma\n",
    "    grayscale_image = cv2.cvtColor(selected_region, cv2.COLOR_BGR2GRAY)    \n",
    "    histogram = cv2.calcHist([grayscale_image], [0], None, [256], [0, 256])\n",
    "\n",
    "    fig, axs = plt.subplots(1, 2, figsize=(10, 5), gridspec_kw={'wspace': 0.5})\n",
    "\n",
    "    # regigão selecionada\n",
    "    axs[0].imshow(cv2.cvtColor(selected_region, cv2.COLOR_BGR2RGB))\n",
    "    axs[0].set_title('Região Selecionada')\n",
    "    axs[0].axis('on')\n",
    "\n",
    "    # histograma\n",
    "    axs[1].plot(histogram, color='blue', alpha=0.7)\n",
    "    axs[1].fill_between(range(256), histogram.flatten(), color='blue', alpha=0.3)\n",
    "    axs[1].set_title('Histograma da Região Selecionada')\n",
    "    axs[1].set_xlabel('Intensidade de Pixel')\n",
    "    axs[1].set_ylabel('Número de Pixels')\n",
    "\n",
    "    #plt.tight_layout()\n",
    "    plt.show()'''\n",
    "\n",
    "    return selected_region"
   ]
  },
  {
   "cell_type": "code",
   "execution_count": 65,
   "id": "0b076fcf-1f59-4383-a13b-2112c4599be3",
   "metadata": {
    "tags": []
   },
   "outputs": [],
   "source": [
    "target_filename = \"DCIS (139)\"   \n",
    "target_path = \"../Bases/Displasia\\\\ROIs_no_pre_processing\\\\healthy\\\\image003-2-roi1.tif\"\n",
    "target = cv2.cvtColor(load_image(target_path), cv2.COLOR_BGR2RGB)"
   ]
  },
  {
   "cell_type": "code",
   "execution_count": 66,
   "id": "88111c09-cd16-4162-b915-baf7a32566a8",
   "metadata": {
    "tags": []
   },
   "outputs": [
    {
     "name": "stdout",
     "output_type": "stream",
     "text": [
      "(250, 450, 3)\n"
     ]
    }
   ],
   "source": [
    "rows = target.shape[0]\n",
    "columns = target.shape[1]\n",
    "magnification = 40\n",
    "print(target.shape)"
   ]
  },
  {
   "cell_type": "code",
   "execution_count": 64,
   "id": "6740916f-afbe-4f93-a236-60a7505e32f5",
   "metadata": {
    "tags": []
   },
   "outputs": [
    {
     "data": {
      "text/plain": [
       "True"
      ]
     },
     "execution_count": 64,
     "metadata": {},
     "output_type": "execute_result"
    }
   ],
   "source": [
    "selected_region = select_representative_region(target, rows, columns, magnification)\n",
    "show_image(selected_region, \"selected_image\")\n",
    "#cv2.imwrite(\".png\", selected_region)"
   ]
  },
  {
   "cell_type": "code",
   "execution_count": null,
   "id": "ffd8bb84-c6f2-46e5-a718-b7ed1f6ed2cd",
   "metadata": {},
   "outputs": [],
   "source": []
  }
 ],
 "metadata": {
  "kernelspec": {
   "display_name": "Python 3 (ipykernel)",
   "language": "python",
   "name": "python3"
  },
  "language_info": {
   "codemirror_mode": {
    "name": "ipython",
    "version": 3
   },
   "file_extension": ".py",
   "mimetype": "text/x-python",
   "name": "python",
   "nbconvert_exporter": "python",
   "pygments_lexer": "ipython3",
   "version": "3.11.5"
  }
 },
 "nbformat": 4,
 "nbformat_minor": 5
}
